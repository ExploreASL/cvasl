{
 "cells": [
  {
   "cell_type": "code",
   "execution_count": 2,
   "id": "9c2aa1d5-45b6-48a9-8c77-4e5d9a91171a",
   "metadata": {
    "tags": []
   },
   "outputs": [],
   "source": [
    "import cProfile"
   ]
  },
  {
   "cell_type": "code",
   "execution_count": 3,
   "id": "72697846-bca6-48b5-955e-caf5d67e7ad1",
   "metadata": {
    "tags": []
   },
   "outputs": [
    {
     "data": {
      "text/plain": [
       "\u001b[1;31mType:\u001b[0m        module\n",
       "\u001b[1;31mString form:\u001b[0m <module 'cProfile' from 'C:\\\\Users\\\\makeda\\\\anaconda3\\\\envs\\\\mriland_nibabel\\\\lib\\\\cProfile.py'>\n",
       "\u001b[1;31mFile:\u001b[0m        c:\\users\\makeda\\anaconda3\\envs\\mriland_nibabel\\lib\\cprofile.py\n",
       "\u001b[1;31mDocstring:\u001b[0m  \n",
       "Python interface for the 'lsprof' profiler.\n",
       "Compatible with the 'profile' module."
      ]
     },
     "metadata": {},
     "output_type": "display_data"
    }
   ],
   "source": []
  },
  {
   "cell_type": "code",
   "execution_count": null,
   "id": "28fa8d31-9014-45d6-9633-5f261e0ffa6c",
   "metadata": {},
   "outputs": [],
   "source": []
  }
 ],
 "metadata": {
  "kernelspec": {
   "display_name": "Python 3 (ipykernel)",
   "language": "python",
   "name": "python3"
  },
  "language_info": {
   "codemirror_mode": {
    "name": "ipython",
    "version": 3
   },
   "file_extension": ".py",
   "mimetype": "text/x-python",
   "name": "python",
   "nbconvert_exporter": "python",
   "pygments_lexer": "ipython3",
   "version": "3.8.6"
  }
 },
 "nbformat": 4,
 "nbformat_minor": 5
}
