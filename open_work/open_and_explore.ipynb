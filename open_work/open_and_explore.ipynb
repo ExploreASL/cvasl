{
 "cells": [
  {
   "cell_type": "markdown",
   "metadata": {},
   "source": [
    "# MRI and TSV preprocessing "
   ]
  },
  {
   "cell_type": "markdown",
   "metadata": {},
   "source": [
    "## Imports"
   ]
  },
  {
   "cell_type": "markdown",
   "metadata": {},
   "source": [
    "The data will be processed using "
   ]
  },
  {
   "cell_type": "code",
   "execution_count": 5,
   "metadata": {},
   "outputs": [],
   "source": [
    "import os       # using operating system dependent functionality (folders)\n",
    "import glob\n",
    "import pandas as pd # data analysis and manipulation\n",
    "import numpy as np    # numerical computing (manipulating and performing operations on arrays of data)\n",
    "import copy     # Can Copy and Deepcopy files so original file is untouched.\n",
    "from ipywidgets import IntSlider, Output\n",
    "import ipywidgets as widgets\n",
    "from IPython.display import display\n",
    "import matplotlib.pyplot as plt\n",
    "import SimpleITK as sitk\n",
    "import skimage\n",
    "\n",
    "import sys\n",
    "sys.path.insert(0, '../') # path to functions\n",
    "from brainspin import file_handler as fh # \n",
    "from brainspin import mold #\n",
    "from brainspin import carve\n",
    "from file_handler import Config"
   ]
  },
  {
   "cell_type": "markdown",
   "metadata": {},
   "source": [
    "## Load files"
   ]
  },
  {
   "cell_type": "markdown",
   "metadata": {},
   "source": [
    "Use the config pathways for the different datasets"
   ]
  },
  {
   "cell_type": "code",
   "execution_count": 6,
   "metadata": {},
   "outputs": [],
   "source": [
    "config = Config()\n",
    "root_mri_directory = config.get_directory('root_mri_directory')"
   ]
  },
  {
   "cell_type": "code",
   "execution_count": 7,
   "metadata": {
    "tags": []
   },
   "outputs": [],
   "source": [
    "tsv_pattern = os.path.join(root_mri_directory, '**/*.tsv')\n",
    "tsv_files = glob.glob(tsv_pattern, recursive=True)\n"
   ]
  },
  {
   "cell_type": "code",
   "execution_count": 8,
   "metadata": {
    "tags": []
   },
   "outputs": [
    {
     "data": {
      "text/plain": [
       "['C:/Projects/brainspin/not_pushed/data_anonymized\\\\Insight46\\\\CoV_qCBF_StandardSpace_DeepWM_n=1670_29-Sep-2022_PVC2.tsv',\n",
       " 'C:/Projects/brainspin/not_pushed/data_anonymized\\\\Insight46\\\\CoV_qCBF_StandardSpace_Hammers_n=1670_29-Sep-2022_PVC2.tsv',\n",
       " 'C:/Projects/brainspin/not_pushed/data_anonymized\\\\Insight46\\\\CoV_qCBF_StandardSpace_Tatu_ACA_MCA_PCA_n=1670_29-Sep-2022_PVC2.tsv',\n",
       " 'C:/Projects/brainspin/not_pushed/data_anonymized\\\\Insight46\\\\CoV_qCBF_StandardSpace_Tatu_ACA_MCA_PCA_Prox_Med_Dist_n=1670_29-Sep-2022_PVC2.tsv',\n",
       " 'C:/Projects/brainspin/not_pushed/data_anonymized\\\\Insight46\\\\CoV_qCBF_StandardSpace_TotalGM_n=1670_29-Sep-2022_PVC2.tsv',\n",
       " 'C:/Projects/brainspin/not_pushed/data_anonymized\\\\Insight46\\\\mean_qCBF_StandardSpace_DeepWM_n=1670_29-Sep-2022_PVC2.tsv',\n",
       " 'C:/Projects/brainspin/not_pushed/data_anonymized\\\\Insight46\\\\mean_qCBF_StandardSpace_Hammers_n=1670_29-Sep-2022_PVC2.tsv',\n",
       " 'C:/Projects/brainspin/not_pushed/data_anonymized\\\\Insight46\\\\mean_qCBF_StandardSpace_Tatu_ACA_MCA_PCA_n=1670_29-Sep-2022_PVC2.tsv',\n",
       " 'C:/Projects/brainspin/not_pushed/data_anonymized\\\\Insight46\\\\mean_qCBF_StandardSpace_Tatu_ACA_MCA_PCA_Prox_Med_Dist_n=1670_29-Sep-2022_PVC2.tsv',\n",
       " 'C:/Projects/brainspin/not_pushed/data_anonymized\\\\Insight46\\\\mean_qCBF_StandardSpace_TotalGM_n=1670_29-Sep-2022_PVC2.tsv',\n",
       " 'C:/Projects/brainspin/not_pushed/data_anonymized\\\\SABRE\\\\CoV_qCBF_StandardSpace_DeepWM_n=753_11-Mar-2021_PVC2.tsv',\n",
       " 'C:/Projects/brainspin/not_pushed/data_anonymized\\\\SABRE\\\\CoV_qCBF_StandardSpace_TotalGM_n=753_11-Mar-2021_PVC2.tsv',\n",
       " 'C:/Projects/brainspin/not_pushed/data_anonymized\\\\SABRE\\\\mean_qCBF_StandardSpace_DeepWM_n=753_11-Mar-2021_PVC2.tsv',\n",
       " 'C:/Projects/brainspin/not_pushed/data_anonymized\\\\SABRE\\\\mean_qCBF_StandardSpace_TotalGM_n=753_11-Mar-2021_PVC2.tsv',\n",
       " 'C:/Projects/brainspin/not_pushed/data_anonymized\\\\StrokeMRI\\\\CoV_qCBF_StandardSpace_DeepWM_n=589_13-Jan-2023_PVC2.tsv',\n",
       " 'C:/Projects/brainspin/not_pushed/data_anonymized\\\\StrokeMRI\\\\CoV_qCBF_StandardSpace_TotalGM_n=589_13-Jan-2023_PVC2.tsv',\n",
       " 'C:/Projects/brainspin/not_pushed/data_anonymized\\\\StrokeMRI\\\\mean_qCBF_StandardSpace_DeepWM_n=589_13-Jan-2023_PVC2.tsv',\n",
       " 'C:/Projects/brainspin/not_pushed/data_anonymized\\\\StrokeMRI\\\\mean_qCBF_StandardSpace_TotalGM_n=589_13-Jan-2023_PVC2.tsv',\n",
       " 'C:/Projects/brainspin/not_pushed/data_anonymized\\\\TOP\\\\CoV_qCBF_StandardSpace_DeepWM_n=895_06-Feb-2023_PVC2.tsv',\n",
       " 'C:/Projects/brainspin/not_pushed/data_anonymized\\\\TOP\\\\CoV_qCBF_StandardSpace_Tatu_ACA_MCA_PCA_n=895_06-Feb-2023_PVC2.tsv',\n",
       " 'C:/Projects/brainspin/not_pushed/data_anonymized\\\\TOP\\\\CoV_qCBF_StandardSpace_Tatu_ACA_MCA_PCA_Prox_Med_Dist_n=895_06-Feb-2023_PVC2.tsv',\n",
       " 'C:/Projects/brainspin/not_pushed/data_anonymized\\\\TOP\\\\CoV_qCBF_StandardSpace_TotalGM_n=895_06-Feb-2023_PVC2.tsv',\n",
       " 'C:/Projects/brainspin/not_pushed/data_anonymized\\\\TOP\\\\mean_qCBF_StandardSpace_DeepWM_n=895_06-Feb-2023_PVC2.tsv',\n",
       " 'C:/Projects/brainspin/not_pushed/data_anonymized\\\\TOP\\\\mean_qCBF_StandardSpace_Tatu_ACA_MCA_PCA_n=895_06-Feb-2023_PVC2.tsv',\n",
       " 'C:/Projects/brainspin/not_pushed/data_anonymized\\\\TOP\\\\mean_qCBF_StandardSpace_Tatu_ACA_MCA_PCA_Prox_Med_Dist_n=895_06-Feb-2023_PVC2.tsv',\n",
       " 'C:/Projects/brainspin/not_pushed/data_anonymized\\\\TOP\\\\mean_qCBF_StandardSpace_TotalGM_n=895_06-Feb-2023_PVC2.tsv',\n",
       " 'C:/Projects/brainspin/not_pushed/data_anonymized\\\\TOP\\\\sub-0012_1\\\\ASL_1\\\\ASL4Dcontext.tsv']"
      ]
     },
     "execution_count": 8,
     "metadata": {},
     "output_type": "execute_result"
    }
   ],
   "source": [
    "tsv_files"
   ]
  },
  {
   "cell_type": "code",
   "execution_count": 9,
   "metadata": {
    "tags": []
   },
   "outputs": [],
   "source": [
    "dataframe_example = pd.read_csv(tsv_files[0], sep='\\t')"
   ]
  },
  {
   "cell_type": "code",
   "execution_count": 10,
   "metadata": {
    "tags": []
   },
   "outputs": [
    {
     "data": {
      "text/html": [
       "<div>\n",
       "<style scoped>\n",
       "    .dataframe tbody tr th:only-of-type {\n",
       "        vertical-align: middle;\n",
       "    }\n",
       "\n",
       "    .dataframe tbody tr th {\n",
       "        vertical-align: top;\n",
       "    }\n",
       "\n",
       "    .dataframe thead th {\n",
       "        text-align: right;\n",
       "    }\n",
       "</style>\n",
       "<table border=\"1\" class=\"dataframe\">\n",
       "  <thead>\n",
       "    <tr style=\"text-align: right;\">\n",
       "      <th></th>\n",
       "      <th>participant_id</th>\n",
       "      <th>session</th>\n",
       "      <th>LongitudinalTimePoint</th>\n",
       "      <th>SubjectNList</th>\n",
       "      <th>Site</th>\n",
       "      <th>GM_vol</th>\n",
       "      <th>WM_vol</th>\n",
       "      <th>CSF_vol</th>\n",
       "      <th>GM_ICVRatio</th>\n",
       "      <th>GMWM_ICVRatio</th>\n",
       "      <th>WMH_vol</th>\n",
       "      <th>WMH_count</th>\n",
       "      <th>MeanMotion</th>\n",
       "      <th>DeepWM_B</th>\n",
       "      <th>DeepWM_L</th>\n",
       "      <th>DeepWM_R</th>\n",
       "    </tr>\n",
       "  </thead>\n",
       "  <tbody>\n",
       "    <tr>\n",
       "      <th>0</th>\n",
       "      <td>StudyID</td>\n",
       "      <td>...</td>\n",
       "      <td>integer</td>\n",
       "      <td>integer</td>\n",
       "      <td>integer</td>\n",
       "      <td>Liter</td>\n",
       "      <td>Liter</td>\n",
       "      <td>Liter</td>\n",
       "      <td>ratio GM/ICV</td>\n",
       "      <td>ratio (GM+WM)/ICV</td>\n",
       "      <td>mL</td>\n",
       "      <td>n lesions (integer)</td>\n",
       "      <td>mm</td>\n",
       "      <td>SD/mean</td>\n",
       "      <td>SD/mean</td>\n",
       "      <td>SD/mean</td>\n",
       "    </tr>\n",
       "    <tr>\n",
       "      <th>1</th>\n",
       "      <td>sub-100151241_1</td>\n",
       "      <td>ASL_1</td>\n",
       "      <td>TimePoint_1</td>\n",
       "      <td>1</td>\n",
       "      <td>1</td>\n",
       "      <td>NaN</td>\n",
       "      <td>NaN</td>\n",
       "      <td>NaN</td>\n",
       "      <td>NaN</td>\n",
       "      <td>NaN</td>\n",
       "      <td>NaN</td>\n",
       "      <td>NaN</td>\n",
       "      <td>NaN</td>\n",
       "      <td>0</td>\n",
       "      <td>0</td>\n",
       "      <td>0</td>\n",
       "    </tr>\n",
       "    <tr>\n",
       "      <th>2</th>\n",
       "      <td>sub-100151242_1</td>\n",
       "      <td>ASL_1</td>\n",
       "      <td>TimePoint_1</td>\n",
       "      <td>2</td>\n",
       "      <td>1</td>\n",
       "      <td>NaN</td>\n",
       "      <td>NaN</td>\n",
       "      <td>NaN</td>\n",
       "      <td>NaN</td>\n",
       "      <td>NaN</td>\n",
       "      <td>NaN</td>\n",
       "      <td>NaN</td>\n",
       "      <td>NaN</td>\n",
       "      <td>0</td>\n",
       "      <td>0</td>\n",
       "      <td>0</td>\n",
       "    </tr>\n",
       "    <tr>\n",
       "      <th>3</th>\n",
       "      <td>sub-10015124_1</td>\n",
       "      <td>ASL_1</td>\n",
       "      <td>TimePoint_1</td>\n",
       "      <td>3</td>\n",
       "      <td>1</td>\n",
       "      <td>0.56794</td>\n",
       "      <td>0.47687</td>\n",
       "      <td>0.34052</td>\n",
       "      <td>0.40997</td>\n",
       "      <td>0.7542</td>\n",
       "      <td>4.889</td>\n",
       "      <td>16</td>\n",
       "      <td>0.16098</td>\n",
       "      <td>10.9918</td>\n",
       "      <td>10.8279</td>\n",
       "      <td>11.0443</td>\n",
       "    </tr>\n",
       "    <tr>\n",
       "      <th>4</th>\n",
       "      <td>sub-10015124_2</td>\n",
       "      <td>ASL_1</td>\n",
       "      <td>TimePoint_2</td>\n",
       "      <td>3</td>\n",
       "      <td>1</td>\n",
       "      <td>0.56664</td>\n",
       "      <td>0.4727</td>\n",
       "      <td>0.34156</td>\n",
       "      <td>0.41034</td>\n",
       "      <td>0.75265</td>\n",
       "      <td>7.444</td>\n",
       "      <td>19</td>\n",
       "      <td>0.17257</td>\n",
       "      <td>7.9018</td>\n",
       "      <td>9.0773</td>\n",
       "      <td>6.8846</td>\n",
       "    </tr>\n",
       "    <tr>\n",
       "      <th>...</th>\n",
       "      <td>...</td>\n",
       "      <td>...</td>\n",
       "      <td>...</td>\n",
       "      <td>...</td>\n",
       "      <td>...</td>\n",
       "      <td>...</td>\n",
       "      <td>...</td>\n",
       "      <td>...</td>\n",
       "      <td>...</td>\n",
       "      <td>...</td>\n",
       "      <td>...</td>\n",
       "      <td>...</td>\n",
       "      <td>...</td>\n",
       "      <td>...</td>\n",
       "      <td>...</td>\n",
       "      <td>...</td>\n",
       "    </tr>\n",
       "    <tr>\n",
       "      <th>1666</th>\n",
       "      <td>sub-19995714_2</td>\n",
       "      <td>ASL_1</td>\n",
       "      <td>TimePoint_2</td>\n",
       "      <td>1300</td>\n",
       "      <td>1</td>\n",
       "      <td>0.63999</td>\n",
       "      <td>0.54546</td>\n",
       "      <td>0.42336</td>\n",
       "      <td>0.3978</td>\n",
       "      <td>0.73685</td>\n",
       "      <td>1.735</td>\n",
       "      <td>23</td>\n",
       "      <td>0.09423</td>\n",
       "      <td>20.3281</td>\n",
       "      <td>16.4068</td>\n",
       "      <td>25.2544</td>\n",
       "    </tr>\n",
       "    <tr>\n",
       "      <th>1667</th>\n",
       "      <td>sub-199968291_1</td>\n",
       "      <td>ASL_1</td>\n",
       "      <td>TimePoint_1</td>\n",
       "      <td>1301</td>\n",
       "      <td>1</td>\n",
       "      <td>NaN</td>\n",
       "      <td>NaN</td>\n",
       "      <td>NaN</td>\n",
       "      <td>NaN</td>\n",
       "      <td>NaN</td>\n",
       "      <td>NaN</td>\n",
       "      <td>NaN</td>\n",
       "      <td>NaN</td>\n",
       "      <td>NaN</td>\n",
       "      <td>NaN</td>\n",
       "      <td>NaN</td>\n",
       "    </tr>\n",
       "    <tr>\n",
       "      <th>1668</th>\n",
       "      <td>sub-199968292_1</td>\n",
       "      <td>ASL_1</td>\n",
       "      <td>TimePoint_1</td>\n",
       "      <td>1302</td>\n",
       "      <td>1</td>\n",
       "      <td>NaN</td>\n",
       "      <td>NaN</td>\n",
       "      <td>NaN</td>\n",
       "      <td>NaN</td>\n",
       "      <td>NaN</td>\n",
       "      <td>NaN</td>\n",
       "      <td>NaN</td>\n",
       "      <td>NaN</td>\n",
       "      <td>NaN</td>\n",
       "      <td>NaN</td>\n",
       "      <td>NaN</td>\n",
       "    </tr>\n",
       "    <tr>\n",
       "      <th>1669</th>\n",
       "      <td>sub-19996829_1</td>\n",
       "      <td>ASL_1</td>\n",
       "      <td>TimePoint_1</td>\n",
       "      <td>1303</td>\n",
       "      <td>1</td>\n",
       "      <td>0.52206</td>\n",
       "      <td>0.45926</td>\n",
       "      <td>0.4026</td>\n",
       "      <td>0.37723</td>\n",
       "      <td>0.70909</td>\n",
       "      <td>15.875</td>\n",
       "      <td>41</td>\n",
       "      <td>NaN</td>\n",
       "      <td>NaN</td>\n",
       "      <td>NaN</td>\n",
       "      <td>NaN</td>\n",
       "    </tr>\n",
       "    <tr>\n",
       "      <th>1670</th>\n",
       "      <td>sub-19996829_2</td>\n",
       "      <td>ASL_1</td>\n",
       "      <td>TimePoint_2</td>\n",
       "      <td>1303</td>\n",
       "      <td>1</td>\n",
       "      <td>0.50715</td>\n",
       "      <td>0.4394</td>\n",
       "      <td>0.44287</td>\n",
       "      <td>0.36501</td>\n",
       "      <td>0.68126</td>\n",
       "      <td>15.112</td>\n",
       "      <td>38</td>\n",
       "      <td>0.20897</td>\n",
       "      <td>5.4641</td>\n",
       "      <td>5.6187</td>\n",
       "      <td>5.2872</td>\n",
       "    </tr>\n",
       "  </tbody>\n",
       "</table>\n",
       "<p>1671 rows × 16 columns</p>\n",
       "</div>"
      ],
      "text/plain": [
       "       participant_id session LongitudinalTimePoint SubjectNList     Site  \\\n",
       "0             StudyID     ...               integer      integer  integer   \n",
       "1     sub-100151241_1   ASL_1           TimePoint_1            1        1   \n",
       "2     sub-100151242_1   ASL_1           TimePoint_1            2        1   \n",
       "3      sub-10015124_1   ASL_1           TimePoint_1            3        1   \n",
       "4      sub-10015124_2   ASL_1           TimePoint_2            3        1   \n",
       "...               ...     ...                   ...          ...      ...   \n",
       "1666   sub-19995714_2   ASL_1           TimePoint_2         1300        1   \n",
       "1667  sub-199968291_1   ASL_1           TimePoint_1         1301        1   \n",
       "1668  sub-199968292_1   ASL_1           TimePoint_1         1302        1   \n",
       "1669   sub-19996829_1   ASL_1           TimePoint_1         1303        1   \n",
       "1670   sub-19996829_2   ASL_1           TimePoint_2         1303        1   \n",
       "\n",
       "       GM_vol   WM_vol  CSF_vol   GM_ICVRatio      GMWM_ICVRatio WMH_vol  \\\n",
       "0       Liter    Liter    Liter  ratio GM/ICV  ratio (GM+WM)/ICV      mL   \n",
       "1         NaN      NaN      NaN           NaN                NaN     NaN   \n",
       "2         NaN      NaN      NaN           NaN                NaN     NaN   \n",
       "3     0.56794  0.47687  0.34052       0.40997             0.7542   4.889   \n",
       "4     0.56664   0.4727  0.34156       0.41034            0.75265   7.444   \n",
       "...       ...      ...      ...           ...                ...     ...   \n",
       "1666  0.63999  0.54546  0.42336        0.3978            0.73685   1.735   \n",
       "1667      NaN      NaN      NaN           NaN                NaN     NaN   \n",
       "1668      NaN      NaN      NaN           NaN                NaN     NaN   \n",
       "1669  0.52206  0.45926   0.4026       0.37723            0.70909  15.875   \n",
       "1670  0.50715   0.4394  0.44287       0.36501            0.68126  15.112   \n",
       "\n",
       "                WMH_count MeanMotion DeepWM_B DeepWM_L DeepWM_R  \n",
       "0     n lesions (integer)         mm  SD/mean  SD/mean  SD/mean  \n",
       "1                     NaN        NaN        0        0        0  \n",
       "2                     NaN        NaN        0        0        0  \n",
       "3                      16    0.16098  10.9918  10.8279  11.0443  \n",
       "4                      19    0.17257   7.9018   9.0773   6.8846  \n",
       "...                   ...        ...      ...      ...      ...  \n",
       "1666                   23    0.09423  20.3281  16.4068  25.2544  \n",
       "1667                  NaN        NaN      NaN      NaN      NaN  \n",
       "1668                  NaN        NaN      NaN      NaN      NaN  \n",
       "1669                   41        NaN      NaN      NaN      NaN  \n",
       "1670                   38    0.20897   5.4641   5.6187   5.2872  \n",
       "\n",
       "[1671 rows x 16 columns]"
      ]
     },
     "execution_count": 10,
     "metadata": {},
     "output_type": "execute_result"
    }
   ],
   "source": [
    "dataframe_example"
   ]
  },
  {
   "cell_type": "code",
   "execution_count": 11,
   "metadata": {
    "tags": []
   },
   "outputs": [],
   "source": [
    "mri_pattern = os.path.join(root_mri_directory, '**/*.gz')\n",
    "gz_files = glob.glob(mri_pattern, recursive=True)"
   ]
  },
  {
   "cell_type": "code",
   "execution_count": 12,
   "metadata": {
    "tags": []
   },
   "outputs": [
    {
     "data": {
      "text/plain": [
       "['C:/Projects/brainspin/not_pushed/data_anonymized\\\\EPAD\\\\040EPAD00007_3\\\\ASL_1\\\\CBF.nii.gz',\n",
       " 'C:/Projects/brainspin/not_pushed/data_anonymized\\\\EPAD\\\\040EPAD00007_3\\\\ASL_1\\\\M0.nii.gz',\n",
       " 'C:/Projects/brainspin/not_pushed/data_anonymized\\\\EPAD\\\\040EPAD00007_3\\\\ASL_1\\\\PWI.nii.gz',\n",
       " 'C:/Projects/brainspin/not_pushed/data_anonymized\\\\HCP\\\\HCA6061757\\\\T1.nii.gz',\n",
       " 'C:/Projects/brainspin/not_pushed/data_anonymized\\\\HCP\\\\HCA6061757\\\\T2w.nii.gz',\n",
       " 'C:/Projects/brainspin/not_pushed/data_anonymized\\\\Insight46\\\\sub-19996829_2\\\\FLAIR.nii.gz',\n",
       " 'C:/Projects/brainspin/not_pushed/data_anonymized\\\\Insight46\\\\sub-19996829_2\\\\T1_ORI.nii.gz',\n",
       " 'C:/Projects/brainspin/not_pushed/data_anonymized\\\\Insight46\\\\sub-19996829_2\\\\ASL_1\\\\ASL4D.nii.gz',\n",
       " 'C:/Projects/brainspin/not_pushed/data_anonymized\\\\Insight46\\\\sub-19996829_2\\\\ASL_1\\\\CBF.nii.gz',\n",
       " 'C:/Projects/brainspin/not_pushed/data_anonymized\\\\Insight46\\\\sub-19996829_2\\\\ASL_1\\\\M0.nii.gz',\n",
       " 'C:/Projects/brainspin/not_pushed/data_anonymized\\\\Insight46\\\\sub-19996829_2\\\\ASL_1\\\\PWI.nii.gz',\n",
       " 'C:/Projects/brainspin/not_pushed/data_anonymized\\\\SABRE\\\\17174\\\\FLAIR.nii.gz',\n",
       " 'C:/Projects/brainspin/not_pushed/data_anonymized\\\\SABRE\\\\17174\\\\T1_ORI.nii.gz',\n",
       " 'C:/Projects/brainspin/not_pushed/data_anonymized\\\\SABRE\\\\17174\\\\ASL_1\\\\ASL4D.nii.gz',\n",
       " 'C:/Projects/brainspin/not_pushed/data_anonymized\\\\SABRE\\\\17174\\\\ASL_1\\\\CBF.nii.gz',\n",
       " 'C:/Projects/brainspin/not_pushed/data_anonymized\\\\SABRE\\\\17174\\\\ASL_1\\\\M0.nii.gz',\n",
       " 'C:/Projects/brainspin/not_pushed/data_anonymized\\\\SABRE\\\\17174\\\\ASL_1\\\\PWI.nii.gz',\n",
       " 'C:/Projects/brainspin/not_pushed/data_anonymized\\\\StrokeMRI\\\\sub-5909201_1\\\\FLAIR.nii.gz',\n",
       " 'C:/Projects/brainspin/not_pushed/data_anonymized\\\\StrokeMRI\\\\sub-5909201_1\\\\T1_ORI.nii.gz',\n",
       " 'C:/Projects/brainspin/not_pushed/data_anonymized\\\\StrokeMRI\\\\sub-5909201_1\\\\ASL_1\\\\ASL4D_Source.nii.gz',\n",
       " 'C:/Projects/brainspin/not_pushed/data_anonymized\\\\StrokeMRI\\\\sub-5909201_1\\\\ASL_1\\\\CBF.nii.gz',\n",
       " 'C:/Projects/brainspin/not_pushed/data_anonymized\\\\StrokeMRI\\\\sub-5909201_1\\\\ASL_1\\\\M0.nii.gz',\n",
       " 'C:/Projects/brainspin/not_pushed/data_anonymized\\\\StrokeMRI\\\\sub-5909201_1\\\\ASL_1\\\\PWI.nii.gz',\n",
       " 'C:/Projects/brainspin/not_pushed/data_anonymized\\\\TOP\\\\sub-0012_1\\\\FLAIR.nii.gz',\n",
       " 'C:/Projects/brainspin/not_pushed/data_anonymized\\\\TOP\\\\sub-0012_1\\\\T1_ORI.nii.gz',\n",
       " 'C:/Projects/brainspin/not_pushed/data_anonymized\\\\TOP\\\\sub-0012_1\\\\ASL_1\\\\ASL4D_Source.nii.gz',\n",
       " 'C:/Projects/brainspin/not_pushed/data_anonymized\\\\TOP\\\\sub-0012_1\\\\ASL_1\\\\CBF.nii.gz',\n",
       " 'C:/Projects/brainspin/not_pushed/data_anonymized\\\\TOP\\\\sub-0012_1\\\\ASL_1\\\\M0.nii.gz',\n",
       " 'C:/Projects/brainspin/not_pushed/data_anonymized\\\\TOP\\\\sub-0012_1\\\\ASL_1\\\\PWI.nii.gz']"
      ]
     },
     "execution_count": 12,
     "metadata": {},
     "output_type": "execute_result"
    }
   ],
   "source": [
    "gz_files"
   ]
  },
  {
   "cell_type": "code",
   "execution_count": 13,
   "metadata": {
    "tags": []
   },
   "outputs": [],
   "source": [
    "# here we can use something not in the base environment just to check that these files exist correctly\n",
    "\n",
    "\n",
    "\n",
    "# A path to an mrid brain .nii image:\n",
    "t1_fn = gz_files[0]\n",
    "\n",
    "# Read the .nii image containing the volume with SimpleITK:\n",
    "sitk_t1 = sitk.ReadImage(t1_fn)\n",
    "\n",
    "# and access the numpy array:\n",
    "t1 = sitk.GetArrayFromImage(sitk_t1)\n",
    "\n",
    "# now display it"
   ]
  },
  {
   "cell_type": "code",
   "execution_count": 14,
   "metadata": {
    "tags": []
   },
   "outputs": [
    {
     "data": {
      "text/plain": [
       "(36, 64, 64)"
      ]
     },
     "execution_count": 14,
     "metadata": {},
     "output_type": "execute_result"
    }
   ],
   "source": [
    "t1.shape"
   ]
  },
  {
   "cell_type": "code",
   "execution_count": 15,
   "metadata": {},
   "outputs": [],
   "source": [
    "# import plotly\n",
    "# import plotly.express as px\n",
    "\n",
    "\n",
    "# fig = px.imshow(\n",
    "#     t1,\n",
    "#     facet_col=1,\n",
    "#     animation_frame=0,\n",
    "#     binary_string=True,\n",
    "#     binary_format=\"jpg\",\n",
    "# )\n",
    "# fig.layout.annotations[0][\"text\"] = \"Something0\"\n",
    "# fig.layout.annotations[1][\"text\"] = \"Something2\"\n",
    "# plotly.io.show(fig)"
   ]
  },
  {
   "cell_type": "code",
   "execution_count": 18,
   "metadata": {},
   "outputs": [
    {
     "ename": "RuntimeError",
     "evalue": "Exception thrown in SimpleITK Show: D:\\bld\\libsimpleitk_1670439920316\\work\\Code\\IO\\src\\sitkImageViewer.cxx:620:\nsitk::ERROR: No ImageJ/Fiji application found.",
     "output_type": "error",
     "traceback": [
      "\u001b[1;31m---------------------------------------------------------------------------\u001b[0m",
      "\u001b[1;31mRuntimeError\u001b[0m                              Traceback (most recent call last)",
      "Cell \u001b[1;32mIn[18], line 1\u001b[0m\n\u001b[1;32m----> 1\u001b[0m \u001b[43msitk\u001b[49m\u001b[38;5;241;43m.\u001b[39;49m\u001b[43mShow\u001b[49m\u001b[43m(\u001b[49m\u001b[43msitk_t1\u001b[49m\u001b[43m,\u001b[49m\u001b[43m \u001b[49m\u001b[43mdebugOn\u001b[49m\u001b[38;5;241;43m=\u001b[39;49m\u001b[38;5;28;43;01mTrue\u001b[39;49;00m\u001b[43m)\u001b[49m\n",
      "File \u001b[1;32m~\\anaconda3\\envs\\mamba\\envs\\mriland\\lib\\site-packages\\SimpleITK\\SimpleITK.py:7768\u001b[0m, in \u001b[0;36mShow\u001b[1;34m(*args, **kwargs)\u001b[0m\n\u001b[0;32m   7757\u001b[0m \u001b[38;5;28;01mdef\u001b[39;00m \u001b[38;5;21mShow\u001b[39m(\u001b[38;5;241m*\u001b[39margs, \u001b[38;5;241m*\u001b[39m\u001b[38;5;241m*\u001b[39mkwargs):\n\u001b[0;32m   7758\u001b[0m \u001b[38;5;250m    \u001b[39m\u001b[38;5;124mr\u001b[39m\u001b[38;5;124;03m\"\"\"\u001b[39;00m\n\u001b[0;32m   7759\u001b[0m \u001b[38;5;124;03m    Show(Image image, std::string const & title=\"\", bool const debugOn=itk::simple::ProcessObject::GetGlobalDefaultDebug())\u001b[39;00m\n\u001b[0;32m   7760\u001b[0m \n\u001b[1;32m   (...)\u001b[0m\n\u001b[0;32m   7766\u001b[0m \n\u001b[0;32m   7767\u001b[0m \u001b[38;5;124;03m    \"\"\"\u001b[39;00m\n\u001b[1;32m-> 7768\u001b[0m     \u001b[38;5;28;01mreturn\u001b[39;00m \u001b[43m_SimpleITK\u001b[49m\u001b[38;5;241;43m.\u001b[39;49m\u001b[43mShow\u001b[49m\u001b[43m(\u001b[49m\u001b[38;5;241;43m*\u001b[39;49m\u001b[43margs\u001b[49m\u001b[43m,\u001b[49m\u001b[43m \u001b[49m\u001b[38;5;241;43m*\u001b[39;49m\u001b[38;5;241;43m*\u001b[39;49m\u001b[43mkwargs\u001b[49m\u001b[43m)\u001b[49m\n",
      "\u001b[1;31mRuntimeError\u001b[0m: Exception thrown in SimpleITK Show: D:\\bld\\libsimpleitk_1670439920316\\work\\Code\\IO\\src\\sitkImageViewer.cxx:620:\nsitk::ERROR: No ImageJ/Fiji application found."
     ]
    }
   ],
   "source": [
    "sitk.Show(sitk_t1, debugOn=True)"
   ]
  },
  {
   "cell_type": "code",
   "execution_count": 20,
   "metadata": {
    "tags": []
   },
   "outputs": [
    {
     "data": {
      "image/png": "[encoded data removed]",
      "text/plain": [
       "<Figure size 640x480 with 1 Axes>"
      ]
     },
     "metadata": {},
     "output_type": "display_data"
    }
   ],
   "source": [
    "fig = plt.figure()\n",
    "ax = fig.add_subplot(111, projection='3d')\n",
    "data = t1\n",
    "z, x, y = data.nonzero()\n",
    "ax.scatter(x, y, z, c=z, alpha=1)\n",
    "plt.show()"
   ]
  },
  {
   "cell_type": "code",
   "execution_count": null,
   "metadata": {},
   "outputs": [],
   "source": []
  }
 ],
 "metadata": {
  "kernelspec": {
   "display_name": "Python 3 (ipykernel)",
   "language": "python",
   "name": "python3"
  },
  "language_info": {
   "codemirror_mode": {
    "name": "ipython",
    "version": 3
   },
   "file_extension": ".py",
   "mimetype": "text/x-python",
   "name": "python",
   "nbconvert_exporter": "python",
   "pygments_lexer": "ipython3",
   "version": "3.8.6"
  }
 },
 "nbformat": 4,
 "nbformat_minor": 4
}
