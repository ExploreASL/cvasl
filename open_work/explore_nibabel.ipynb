{
 "cells": [
  {
   "cell_type": "markdown",
   "metadata": {},
   "source": [
    "# MRI and TSV preprocessing "
   ]
  },
  {
   "cell_type": "markdown",
   "metadata": {},
   "source": [
    "## Imports"
   ]
  },
  {
   "cell_type": "markdown",
   "metadata": {},
   "source": [
    "The data will be processed using "
   ]
  },
  {
   "cell_type": "code",
   "execution_count": 2,
   "metadata": {},
   "outputs": [],
   "source": [
    "import os       # using operating system dependent functionality (folders)\n",
    "import glob\n",
    "import pandas as pd # data analysis and manipulation\n",
    "import numpy as np    # numerical computing (manipulating and performing operations on arrays of data)\n",
    "import copy     # Can Copy and Deepcopy files so original file is untouched.\n",
    "from ipywidgets import IntSlider, Output\n",
    "import ipywidgets as widgets\n",
    "from IPython.display import display\n",
    "import matplotlib.pyplot as plt\n",
    "#import SimpleITK as sitk\n",
    "import nibabel\n",
    "import skimage\n",
    "\n",
    "import sys\n",
    "sys.path.insert(0, '../') # path to functions\n",
    "from brainspin import file_handler as fh # \n",
    "from brainspin import mold #\n",
    "from brainspin import carve\n",
    "from brainspin.file_handler import Config"
   ]
  },
  {
   "cell_type": "markdown",
   "metadata": {},
   "source": [
    "## Load files"
   ]
  },
  {
   "cell_type": "markdown",
   "metadata": {},
   "source": [
    "Use the config pathways for the different datasets"
   ]
  },
  {
   "cell_type": "code",
   "execution_count": 3,
   "metadata": {},
   "outputs": [],
   "source": [
    "config = Config()\n",
    "root_mri_directory = config.get_directory('root_mri_directory')"
   ]
  },
  {
   "cell_type": "code",
   "execution_count": 4,
   "metadata": {
    "tags": []
   },
   "outputs": [],
   "source": [
    "tsv_pattern = os.path.join(root_mri_directory, '**/*.tsv')\n",
    "tsv_files = glob.glob(tsv_pattern, recursive=True)\n"
   ]
  },
  {
   "cell_type": "code",
   "execution_count": 5,
   "metadata": {
    "tags": []
   },
   "outputs": [
    {
     "data": {
      "text/plain": [
       "['C:/Projects/brainspin/not_pushed/data_anonymized\\\\Insight46\\\\CoV_qCBF_StandardSpace_DeepWM_n=1670_29-Sep-2022_PVC2.tsv',\n",
       " 'C:/Projects/brainspin/not_pushed/data_anonymized\\\\Insight46\\\\CoV_qCBF_StandardSpace_Hammers_n=1670_29-Sep-2022_PVC2.tsv',\n",
       " 'C:/Projects/brainspin/not_pushed/data_anonymized\\\\Insight46\\\\CoV_qCBF_StandardSpace_Tatu_ACA_MCA_PCA_n=1670_29-Sep-2022_PVC2.tsv',\n",
       " 'C:/Projects/brainspin/not_pushed/data_anonymized\\\\Insight46\\\\CoV_qCBF_StandardSpace_Tatu_ACA_MCA_PCA_Prox_Med_Dist_n=1670_29-Sep-2022_PVC2.tsv',\n",
       " 'C:/Projects/brainspin/not_pushed/data_anonymized\\\\Insight46\\\\CoV_qCBF_StandardSpace_TotalGM_n=1670_29-Sep-2022_PVC2.tsv',\n",
       " 'C:/Projects/brainspin/not_pushed/data_anonymized\\\\Insight46\\\\mean_qCBF_StandardSpace_DeepWM_n=1670_29-Sep-2022_PVC2.tsv',\n",
       " 'C:/Projects/brainspin/not_pushed/data_anonymized\\\\Insight46\\\\mean_qCBF_StandardSpace_Hammers_n=1670_29-Sep-2022_PVC2.tsv',\n",
       " 'C:/Projects/brainspin/not_pushed/data_anonymized\\\\Insight46\\\\mean_qCBF_StandardSpace_Tatu_ACA_MCA_PCA_n=1670_29-Sep-2022_PVC2.tsv',\n",
       " 'C:/Projects/brainspin/not_pushed/data_anonymized\\\\Insight46\\\\mean_qCBF_StandardSpace_Tatu_ACA_MCA_PCA_Prox_Med_Dist_n=1670_29-Sep-2022_PVC2.tsv',\n",
       " 'C:/Projects/brainspin/not_pushed/data_anonymized\\\\Insight46\\\\mean_qCBF_StandardSpace_TotalGM_n=1670_29-Sep-2022_PVC2.tsv',\n",
       " 'C:/Projects/brainspin/not_pushed/data_anonymized\\\\SABRE\\\\CoV_qCBF_StandardSpace_DeepWM_n=753_11-Mar-2021_PVC2.tsv',\n",
       " 'C:/Projects/brainspin/not_pushed/data_anonymized\\\\SABRE\\\\CoV_qCBF_StandardSpace_TotalGM_n=753_11-Mar-2021_PVC2.tsv',\n",
       " 'C:/Projects/brainspin/not_pushed/data_anonymized\\\\SABRE\\\\mean_qCBF_StandardSpace_DeepWM_n=753_11-Mar-2021_PVC2.tsv',\n",
       " 'C:/Projects/brainspin/not_pushed/data_anonymized\\\\SABRE\\\\mean_qCBF_StandardSpace_TotalGM_n=753_11-Mar-2021_PVC2.tsv',\n",
       " 'C:/Projects/brainspin/not_pushed/data_anonymized\\\\StrokeMRI\\\\CoV_qCBF_StandardSpace_DeepWM_n=589_13-Jan-2023_PVC2.tsv',\n",
       " 'C:/Projects/brainspin/not_pushed/data_anonymized\\\\StrokeMRI\\\\CoV_qCBF_StandardSpace_TotalGM_n=589_13-Jan-2023_PVC2.tsv',\n",
       " 'C:/Projects/brainspin/not_pushed/data_anonymized\\\\StrokeMRI\\\\mean_qCBF_StandardSpace_DeepWM_n=589_13-Jan-2023_PVC2.tsv',\n",
       " 'C:/Projects/brainspin/not_pushed/data_anonymized\\\\StrokeMRI\\\\mean_qCBF_StandardSpace_TotalGM_n=589_13-Jan-2023_PVC2.tsv',\n",
       " 'C:/Projects/brainspin/not_pushed/data_anonymized\\\\TOP\\\\CoV_qCBF_StandardSpace_DeepWM_n=895_06-Feb-2023_PVC2.tsv',\n",
       " 'C:/Projects/brainspin/not_pushed/data_anonymized\\\\TOP\\\\CoV_qCBF_StandardSpace_Tatu_ACA_MCA_PCA_n=895_06-Feb-2023_PVC2.tsv',\n",
       " 'C:/Projects/brainspin/not_pushed/data_anonymized\\\\TOP\\\\CoV_qCBF_StandardSpace_Tatu_ACA_MCA_PCA_Prox_Med_Dist_n=895_06-Feb-2023_PVC2.tsv',\n",
       " 'C:/Projects/brainspin/not_pushed/data_anonymized\\\\TOP\\\\CoV_qCBF_StandardSpace_TotalGM_n=895_06-Feb-2023_PVC2.tsv',\n",
       " 'C:/Projects/brainspin/not_pushed/data_anonymized\\\\TOP\\\\mean_qCBF_StandardSpace_DeepWM_n=895_06-Feb-2023_PVC2.tsv',\n",
       " 'C:/Projects/brainspin/not_pushed/data_anonymized\\\\TOP\\\\mean_qCBF_StandardSpace_Tatu_ACA_MCA_PCA_n=895_06-Feb-2023_PVC2.tsv',\n",
       " 'C:/Projects/brainspin/not_pushed/data_anonymized\\\\TOP\\\\mean_qCBF_StandardSpace_Tatu_ACA_MCA_PCA_Prox_Med_Dist_n=895_06-Feb-2023_PVC2.tsv',\n",
       " 'C:/Projects/brainspin/not_pushed/data_anonymized\\\\TOP\\\\mean_qCBF_StandardSpace_TotalGM_n=895_06-Feb-2023_PVC2.tsv',\n",
       " 'C:/Projects/brainspin/not_pushed/data_anonymized\\\\TOP\\\\sub-0012_1\\\\ASL_1\\\\ASL4Dcontext.tsv']"
      ]
     },
     "execution_count": 5,
     "metadata": {},
     "output_type": "execute_result"
    }
   ],
   "source": [
    "tsv_files"
   ]
  },
  {
   "cell_type": "code",
   "execution_count": 6,
   "metadata": {
    "tags": []
   },
   "outputs": [],
   "source": [
    "dataframe_example = pd.read_csv(tsv_files[0], sep='\\t')"
   ]
  },
  {
   "cell_type": "code",
   "execution_count": 7,
   "metadata": {
    "tags": []
   },
   "outputs": [
    {
     "data": {
      "text/html": [
       "<div>\n",
       "<style scoped>\n",
       "    .dataframe tbody tr th:only-of-type {\n",
       "        vertical-align: middle;\n",
       "    }\n",
       "\n",
       "    .dataframe tbody tr th {\n",
       "        vertical-align: top;\n",
       "    }\n",
       "\n",
       "    .dataframe thead th {\n",
       "        text-align: right;\n",
       "    }\n",
       "</style>\n",
       "<table border=\"1\" class=\"dataframe\">\n",
       "  <thead>\n",
       "    <tr style=\"text-align: right;\">\n",
       "      <th></th>\n",
       "      <th>participant_id</th>\n",
       "      <th>session</th>\n",
       "      <th>LongitudinalTimePoint</th>\n",
       "      <th>SubjectNList</th>\n",
       "      <th>Site</th>\n",
       "      <th>GM_vol</th>\n",
       "      <th>WM_vol</th>\n",
       "      <th>CSF_vol</th>\n",
       "      <th>GM_ICVRatio</th>\n",
       "      <th>GMWM_ICVRatio</th>\n",
       "      <th>WMH_vol</th>\n",
       "      <th>WMH_count</th>\n",
       "      <th>MeanMotion</th>\n",
       "      <th>DeepWM_B</th>\n",
       "      <th>DeepWM_L</th>\n",
       "      <th>DeepWM_R</th>\n",
       "    </tr>\n",
       "  </thead>\n",
       "  <tbody>\n",
       "    <tr>\n",
       "      <th>0</th>\n",
       "      <td>StudyID</td>\n",
       "      <td>...</td>\n",
       "      <td>integer</td>\n",
       "      <td>integer</td>\n",
       "      <td>integer</td>\n",
       "      <td>Liter</td>\n",
       "      <td>Liter</td>\n",
       "      <td>Liter</td>\n",
       "      <td>ratio GM/ICV</td>\n",
       "      <td>ratio (GM+WM)/ICV</td>\n",
       "      <td>mL</td>\n",
       "      <td>n lesions (integer)</td>\n",
       "      <td>mm</td>\n",
       "      <td>SD/mean</td>\n",
       "      <td>SD/mean</td>\n",
       "      <td>SD/mean</td>\n",
       "    </tr>\n",
       "    <tr>\n",
       "      <th>1</th>\n",
       "      <td>sub-100151241_1</td>\n",
       "      <td>ASL_1</td>\n",
       "      <td>TimePoint_1</td>\n",
       "      <td>1</td>\n",
       "      <td>1</td>\n",
       "      <td>NaN</td>\n",
       "      <td>NaN</td>\n",
       "      <td>NaN</td>\n",
       "      <td>NaN</td>\n",
       "      <td>NaN</td>\n",
       "      <td>NaN</td>\n",
       "      <td>NaN</td>\n",
       "      <td>NaN</td>\n",
       "      <td>0</td>\n",
       "      <td>0</td>\n",
       "      <td>0</td>\n",
       "    </tr>\n",
       "    <tr>\n",
       "      <th>2</th>\n",
       "      <td>sub-100151242_1</td>\n",
       "      <td>ASL_1</td>\n",
       "      <td>TimePoint_1</td>\n",
       "      <td>2</td>\n",
       "      <td>1</td>\n",
       "      <td>NaN</td>\n",
       "      <td>NaN</td>\n",
       "      <td>NaN</td>\n",
       "      <td>NaN</td>\n",
       "      <td>NaN</td>\n",
       "      <td>NaN</td>\n",
       "      <td>NaN</td>\n",
       "      <td>NaN</td>\n",
       "      <td>0</td>\n",
       "      <td>0</td>\n",
       "      <td>0</td>\n",
       "    </tr>\n",
       "    <tr>\n",
       "      <th>3</th>\n",
       "      <td>sub-10015124_1</td>\n",
       "      <td>ASL_1</td>\n",
       "      <td>TimePoint_1</td>\n",
       "      <td>3</td>\n",
       "      <td>1</td>\n",
       "      <td>0.56794</td>\n",
       "      <td>0.47687</td>\n",
       "      <td>0.34052</td>\n",
       "      <td>0.40997</td>\n",
       "      <td>0.7542</td>\n",
       "      <td>4.889</td>\n",
       "      <td>16</td>\n",
       "      <td>0.16098</td>\n",
       "      <td>10.9918</td>\n",
       "      <td>10.8279</td>\n",
       "      <td>11.0443</td>\n",
       "    </tr>\n",
       "    <tr>\n",
       "      <th>4</th>\n",
       "      <td>sub-10015124_2</td>\n",
       "      <td>ASL_1</td>\n",
       "      <td>TimePoint_2</td>\n",
       "      <td>3</td>\n",
       "      <td>1</td>\n",
       "      <td>0.56664</td>\n",
       "      <td>0.4727</td>\n",
       "      <td>0.34156</td>\n",
       "      <td>0.41034</td>\n",
       "      <td>0.75265</td>\n",
       "      <td>7.444</td>\n",
       "      <td>19</td>\n",
       "      <td>0.17257</td>\n",
       "      <td>7.9018</td>\n",
       "      <td>9.0773</td>\n",
       "      <td>6.8846</td>\n",
       "    </tr>\n",
       "    <tr>\n",
       "      <th>...</th>\n",
       "      <td>...</td>\n",
       "      <td>...</td>\n",
       "      <td>...</td>\n",
       "      <td>...</td>\n",
       "      <td>...</td>\n",
       "      <td>...</td>\n",
       "      <td>...</td>\n",
       "      <td>...</td>\n",
       "      <td>...</td>\n",
       "      <td>...</td>\n",
       "      <td>...</td>\n",
       "      <td>...</td>\n",
       "      <td>...</td>\n",
       "      <td>...</td>\n",
       "      <td>...</td>\n",
       "      <td>...</td>\n",
       "    </tr>\n",
       "    <tr>\n",
       "      <th>1666</th>\n",
       "      <td>sub-19995714_2</td>\n",
       "      <td>ASL_1</td>\n",
       "      <td>TimePoint_2</td>\n",
       "      <td>1300</td>\n",
       "      <td>1</td>\n",
       "      <td>0.63999</td>\n",
       "      <td>0.54546</td>\n",
       "      <td>0.42336</td>\n",
       "      <td>0.3978</td>\n",
       "      <td>0.73685</td>\n",
       "      <td>1.735</td>\n",
       "      <td>23</td>\n",
       "      <td>0.09423</td>\n",
       "      <td>20.3281</td>\n",
       "      <td>16.4068</td>\n",
       "      <td>25.2544</td>\n",
       "    </tr>\n",
       "    <tr>\n",
       "      <th>1667</th>\n",
       "      <td>sub-199968291_1</td>\n",
       "      <td>ASL_1</td>\n",
       "      <td>TimePoint_1</td>\n",
       "      <td>1301</td>\n",
       "      <td>1</td>\n",
       "      <td>NaN</td>\n",
       "      <td>NaN</td>\n",
       "      <td>NaN</td>\n",
       "      <td>NaN</td>\n",
       "      <td>NaN</td>\n",
       "      <td>NaN</td>\n",
       "      <td>NaN</td>\n",
       "      <td>NaN</td>\n",
       "      <td>NaN</td>\n",
       "      <td>NaN</td>\n",
       "      <td>NaN</td>\n",
       "    </tr>\n",
       "    <tr>\n",
       "      <th>1668</th>\n",
       "      <td>sub-199968292_1</td>\n",
       "      <td>ASL_1</td>\n",
       "      <td>TimePoint_1</td>\n",
       "      <td>1302</td>\n",
       "      <td>1</td>\n",
       "      <td>NaN</td>\n",
       "      <td>NaN</td>\n",
       "      <td>NaN</td>\n",
       "      <td>NaN</td>\n",
       "      <td>NaN</td>\n",
       "      <td>NaN</td>\n",
       "      <td>NaN</td>\n",
       "      <td>NaN</td>\n",
       "      <td>NaN</td>\n",
       "      <td>NaN</td>\n",
       "      <td>NaN</td>\n",
       "    </tr>\n",
       "    <tr>\n",
       "      <th>1669</th>\n",
       "      <td>sub-19996829_1</td>\n",
       "      <td>ASL_1</td>\n",
       "      <td>TimePoint_1</td>\n",
       "      <td>1303</td>\n",
       "      <td>1</td>\n",
       "      <td>0.52206</td>\n",
       "      <td>0.45926</td>\n",
       "      <td>0.4026</td>\n",
       "      <td>0.37723</td>\n",
       "      <td>0.70909</td>\n",
       "      <td>15.875</td>\n",
       "      <td>41</td>\n",
       "      <td>NaN</td>\n",
       "      <td>NaN</td>\n",
       "      <td>NaN</td>\n",
       "      <td>NaN</td>\n",
       "    </tr>\n",
       "    <tr>\n",
       "      <th>1670</th>\n",
       "      <td>sub-19996829_2</td>\n",
       "      <td>ASL_1</td>\n",
       "      <td>TimePoint_2</td>\n",
       "      <td>1303</td>\n",
       "      <td>1</td>\n",
       "      <td>0.50715</td>\n",
       "      <td>0.4394</td>\n",
       "      <td>0.44287</td>\n",
       "      <td>0.36501</td>\n",
       "      <td>0.68126</td>\n",
       "      <td>15.112</td>\n",
       "      <td>38</td>\n",
       "      <td>0.20897</td>\n",
       "      <td>5.4641</td>\n",
       "      <td>5.6187</td>\n",
       "      <td>5.2872</td>\n",
       "    </tr>\n",
       "  </tbody>\n",
       "</table>\n",
       "<p>1671 rows × 16 columns</p>\n",
       "</div>"
      ],
      "text/plain": [
       "       participant_id session LongitudinalTimePoint SubjectNList     Site  \\\n",
       "0             StudyID     ...               integer      integer  integer   \n",
       "1     sub-100151241_1   ASL_1           TimePoint_1            1        1   \n",
       "2     sub-100151242_1   ASL_1           TimePoint_1            2        1   \n",
       "3      sub-10015124_1   ASL_1           TimePoint_1            3        1   \n",
       "4      sub-10015124_2   ASL_1           TimePoint_2            3        1   \n",
       "...               ...     ...                   ...          ...      ...   \n",
       "1666   sub-19995714_2   ASL_1           TimePoint_2         1300        1   \n",
       "1667  sub-199968291_1   ASL_1           TimePoint_1         1301        1   \n",
       "1668  sub-199968292_1   ASL_1           TimePoint_1         1302        1   \n",
       "1669   sub-19996829_1   ASL_1           TimePoint_1         1303        1   \n",
       "1670   sub-19996829_2   ASL_1           TimePoint_2         1303        1   \n",
       "\n",
       "       GM_vol   WM_vol  CSF_vol   GM_ICVRatio      GMWM_ICVRatio WMH_vol  \\\n",
       "0       Liter    Liter    Liter  ratio GM/ICV  ratio (GM+WM)/ICV      mL   \n",
       "1         NaN      NaN      NaN           NaN                NaN     NaN   \n",
       "2         NaN      NaN      NaN           NaN                NaN     NaN   \n",
       "3     0.56794  0.47687  0.34052       0.40997             0.7542   4.889   \n",
       "4     0.56664   0.4727  0.34156       0.41034            0.75265   7.444   \n",
       "...       ...      ...      ...           ...                ...     ...   \n",
       "1666  0.63999  0.54546  0.42336        0.3978            0.73685   1.735   \n",
       "1667      NaN      NaN      NaN           NaN                NaN     NaN   \n",
       "1668      NaN      NaN      NaN           NaN                NaN     NaN   \n",
       "1669  0.52206  0.45926   0.4026       0.37723            0.70909  15.875   \n",
       "1670  0.50715   0.4394  0.44287       0.36501            0.68126  15.112   \n",
       "\n",
       "                WMH_count MeanMotion DeepWM_B DeepWM_L DeepWM_R  \n",
       "0     n lesions (integer)         mm  SD/mean  SD/mean  SD/mean  \n",
       "1                     NaN        NaN        0        0        0  \n",
       "2                     NaN        NaN        0        0        0  \n",
       "3                      16    0.16098  10.9918  10.8279  11.0443  \n",
       "4                      19    0.17257   7.9018   9.0773   6.8846  \n",
       "...                   ...        ...      ...      ...      ...  \n",
       "1666                   23    0.09423  20.3281  16.4068  25.2544  \n",
       "1667                  NaN        NaN      NaN      NaN      NaN  \n",
       "1668                  NaN        NaN      NaN      NaN      NaN  \n",
       "1669                   41        NaN      NaN      NaN      NaN  \n",
       "1670                   38    0.20897   5.4641   5.6187   5.2872  \n",
       "\n",
       "[1671 rows x 16 columns]"
      ]
     },
     "execution_count": 7,
     "metadata": {},
     "output_type": "execute_result"
    }
   ],
   "source": [
    "dataframe_example"
   ]
  },
  {
   "cell_type": "code",
   "execution_count": 8,
   "metadata": {
    "tags": []
   },
   "outputs": [],
   "source": [
    "mri_pattern = os.path.join(root_mri_directory, '**/*.gz')\n",
    "gz_files = glob.glob(mri_pattern, recursive=True)"
   ]
  },
  {
   "cell_type": "code",
   "execution_count": 9,
   "metadata": {
    "tags": []
   },
   "outputs": [
    {
     "data": {
      "text/plain": [
       "['C:/Projects/brainspin/not_pushed/data_anonymized\\\\EPAD\\\\040EPAD00007_3\\\\ASL_1\\\\CBF.nii.gz',\n",
       " 'C:/Projects/brainspin/not_pushed/data_anonymized\\\\EPAD\\\\040EPAD00007_3\\\\ASL_1\\\\M0.nii.gz',\n",
       " 'C:/Projects/brainspin/not_pushed/data_anonymized\\\\EPAD\\\\040EPAD00007_3\\\\ASL_1\\\\PWI.nii.gz',\n",
       " 'C:/Projects/brainspin/not_pushed/data_anonymized\\\\HCP\\\\HCA6061757\\\\T1.nii.gz',\n",
       " 'C:/Projects/brainspin/not_pushed/data_anonymized\\\\HCP\\\\HCA6061757\\\\T2w.nii.gz',\n",
       " 'C:/Projects/brainspin/not_pushed/data_anonymized\\\\Insight46\\\\sub-19996829_2\\\\FLAIR.nii.gz',\n",
       " 'C:/Projects/brainspin/not_pushed/data_anonymized\\\\Insight46\\\\sub-19996829_2\\\\T1_ORI.nii.gz',\n",
       " 'C:/Projects/brainspin/not_pushed/data_anonymized\\\\Insight46\\\\sub-19996829_2\\\\ASL_1\\\\ASL4D.nii.gz',\n",
       " 'C:/Projects/brainspin/not_pushed/data_anonymized\\\\Insight46\\\\sub-19996829_2\\\\ASL_1\\\\CBF.nii.gz',\n",
       " 'C:/Projects/brainspin/not_pushed/data_anonymized\\\\Insight46\\\\sub-19996829_2\\\\ASL_1\\\\M0.nii.gz',\n",
       " 'C:/Projects/brainspin/not_pushed/data_anonymized\\\\Insight46\\\\sub-19996829_2\\\\ASL_1\\\\PWI.nii.gz',\n",
       " 'C:/Projects/brainspin/not_pushed/data_anonymized\\\\SABRE\\\\17174\\\\FLAIR.nii.gz',\n",
       " 'C:/Projects/brainspin/not_pushed/data_anonymized\\\\SABRE\\\\17174\\\\T1_ORI.nii.gz',\n",
       " 'C:/Projects/brainspin/not_pushed/data_anonymized\\\\SABRE\\\\17174\\\\ASL_1\\\\ASL4D.nii.gz',\n",
       " 'C:/Projects/brainspin/not_pushed/data_anonymized\\\\SABRE\\\\17174\\\\ASL_1\\\\CBF.nii.gz',\n",
       " 'C:/Projects/brainspin/not_pushed/data_anonymized\\\\SABRE\\\\17174\\\\ASL_1\\\\M0.nii.gz',\n",
       " 'C:/Projects/brainspin/not_pushed/data_anonymized\\\\SABRE\\\\17174\\\\ASL_1\\\\PWI.nii.gz',\n",
       " 'C:/Projects/brainspin/not_pushed/data_anonymized\\\\StrokeMRI\\\\sub-5909201_1\\\\FLAIR.nii.gz',\n",
       " 'C:/Projects/brainspin/not_pushed/data_anonymized\\\\StrokeMRI\\\\sub-5909201_1\\\\T1_ORI.nii.gz',\n",
       " 'C:/Projects/brainspin/not_pushed/data_anonymized\\\\StrokeMRI\\\\sub-5909201_1\\\\ASL_1\\\\ASL4D_Source.nii.gz',\n",
       " 'C:/Projects/brainspin/not_pushed/data_anonymized\\\\StrokeMRI\\\\sub-5909201_1\\\\ASL_1\\\\CBF.nii.gz',\n",
       " 'C:/Projects/brainspin/not_pushed/data_anonymized\\\\StrokeMRI\\\\sub-5909201_1\\\\ASL_1\\\\M0.nii.gz',\n",
       " 'C:/Projects/brainspin/not_pushed/data_anonymized\\\\StrokeMRI\\\\sub-5909201_1\\\\ASL_1\\\\PWI.nii.gz',\n",
       " 'C:/Projects/brainspin/not_pushed/data_anonymized\\\\TOP\\\\sub-0012_1\\\\FLAIR.nii.gz',\n",
       " 'C:/Projects/brainspin/not_pushed/data_anonymized\\\\TOP\\\\sub-0012_1\\\\T1_ORI.nii.gz',\n",
       " 'C:/Projects/brainspin/not_pushed/data_anonymized\\\\TOP\\\\sub-0012_1\\\\ASL_1\\\\ASL4D_Source.nii.gz',\n",
       " 'C:/Projects/brainspin/not_pushed/data_anonymized\\\\TOP\\\\sub-0012_1\\\\ASL_1\\\\CBF.nii.gz',\n",
       " 'C:/Projects/brainspin/not_pushed/data_anonymized\\\\TOP\\\\sub-0012_1\\\\ASL_1\\\\M0.nii.gz',\n",
       " 'C:/Projects/brainspin/not_pushed/data_anonymized\\\\TOP\\\\sub-0012_1\\\\ASL_1\\\\PWI.nii.gz']"
      ]
     },
     "execution_count": 9,
     "metadata": {},
     "output_type": "execute_result"
    }
   ],
   "source": [
    "gz_files"
   ]
  },
  {
   "cell_type": "code",
   "execution_count": 33,
   "metadata": {
    "tags": []
   },
   "outputs": [],
   "source": [
    "# here we can use something not in the base environment just to check that these files exist correctly\n",
    "\n",
    "\n",
    "\n",
    "# A path to an mrid brain .nii image:\n",
    "t1_fn = gz_files[2]\n",
    "\n",
    "t1_img = nibabel.load(t1_fn)\n",
    "\n",
    "\n",
    "# now display it"
   ]
  },
  {
   "cell_type": "code",
   "execution_count": 34,
   "metadata": {
    "tags": []
   },
   "outputs": [
    {
     "data": {
      "text/plain": [
       "(64, 64, 36)"
      ]
     },
     "execution_count": 34,
     "metadata": {},
     "output_type": "execute_result"
    }
   ],
   "source": [
    "t1_img.shape"
   ]
  },
  {
   "cell_type": "code",
   "execution_count": 35,
   "metadata": {},
   "outputs": [
    {
     "name": "stdout",
     "output_type": "stream",
     "text": [
      "<class 'nibabel.nifti1.Nifti1Header'> object, endian='<'\n",
      "sizeof_hdr      : 348\n",
      "data_type       : b''\n",
      "db_name         : b''\n",
      "extents         : 0\n",
      "session_error   : 0\n",
      "regular         : b'r'\n",
      "dim_info        : 0\n",
      "dim             : [ 3 64 64 36  1  1  1  1]\n",
      "intent_p1       : 0.0\n",
      "intent_p2       : 0.0\n",
      "intent_p3       : 0.0\n",
      "intent_code     : none\n",
      "datatype        : float32\n",
      "bitpix          : 32\n",
      "slice_start     : 0\n",
      "pixdim          : [-1.         3.4374995  3.4374998  4.4999995  0.         0.\n",
      "  0.         0.       ]\n",
      "vox_offset      : 0.0\n",
      "scl_slope       : nan\n",
      "scl_inter       : nan\n",
      "slice_end       : 0\n",
      "slice_code      : unknown\n",
      "xyzt_units      : 10\n",
      "cal_max         : 0.0\n",
      "cal_min         : 0.0\n",
      "slice_duration  : 0.0\n",
      "toffset         : 0.0\n",
      "glmax           : 0\n",
      "glmin           : 0\n",
      "descrip         : b'spm - realigned'\n",
      "aux_file        : b''\n",
      "qform_code      : aligned\n",
      "sform_code      : aligned\n",
      "quatern_b       : 0.0026321653\n",
      "quatern_c       : 0.9963083\n",
      "quatern_d       : 0.08203961\n",
      "qoffset_x       : 109.81204\n",
      "qoffset_y       : -126.612076\n",
      "qoffset_z       : -61.28837\n",
      "srow_x          : [-3.43310499e+00  3.84688377e-03 -2.27413774e-01  1.09812035e+02]\n",
      "srow_y          : [ 3.2211781e-02  3.3911800e+00 -7.3503482e-01 -1.2661207e+02]\n",
      "srow_z          : [ -0.17074978   0.5623952    4.4337344  -61.288364  ]\n",
      "intent_name     : b''\n",
      "magic           : b'n+1'\n"
     ]
    }
   ],
   "source": [
    "t1_hdr = t1_img.header\n",
    "print(t1_hdr)\n"
   ]
  },
  {
   "cell_type": "code",
   "execution_count": 36,
   "metadata": {},
   "outputs": [
    {
     "data": {
      "text/plain": [
       "['sizeof_hdr',\n",
       " 'data_type',\n",
       " 'db_name',\n",
       " 'extents',\n",
       " 'session_error',\n",
       " 'regular',\n",
       " 'dim_info',\n",
       " 'dim',\n",
       " 'intent_p1',\n",
       " 'intent_p2',\n",
       " 'intent_p3',\n",
       " 'intent_code',\n",
       " 'datatype',\n",
       " 'bitpix',\n",
       " 'slice_start',\n",
       " 'pixdim',\n",
       " 'vox_offset',\n",
       " 'scl_slope',\n",
       " 'scl_inter',\n",
       " 'slice_end',\n",
       " 'slice_code',\n",
       " 'xyzt_units',\n",
       " 'cal_max',\n",
       " 'cal_min',\n",
       " 'slice_duration',\n",
       " 'toffset',\n",
       " 'glmax',\n",
       " 'glmin',\n",
       " 'descrip',\n",
       " 'aux_file',\n",
       " 'qform_code',\n",
       " 'sform_code',\n",
       " 'quatern_b',\n",
       " 'quatern_c',\n",
       " 'quatern_d',\n",
       " 'qoffset_x',\n",
       " 'qoffset_y',\n",
       " 'qoffset_z',\n",
       " 'srow_x',\n",
       " 'srow_y',\n",
       " 'srow_z',\n",
       " 'intent_name',\n",
       " 'magic']"
      ]
     },
     "execution_count": 36,
     "metadata": {},
     "output_type": "execute_result"
    }
   ],
   "source": [
    "t1_hdr.keys()\n"
   ]
  },
  {
   "cell_type": "code",
   "execution_count": null,
   "metadata": {},
   "outputs": [],
   "source": []
  },
  {
   "cell_type": "code",
   "execution_count": 37,
   "metadata": {
    "tags": []
   },
   "outputs": [
    {
     "data": {
      "text/plain": [
       "array([[[            nan, -3.42402107e-10, -4.63615919e-08, ...,\n",
       "                     nan,             nan,             nan],\n",
       "        [            nan,  1.31429672e-07, -5.62228990e-07, ...,\n",
       "         -2.27385304e-13,  7.88946816e-14,             nan],\n",
       "        [            nan,  1.45753887e-07,  1.11551583e-06, ...,\n",
       "          2.96697259e-12, -1.00840061e-12,             nan],\n",
       "        ...,\n",
       "        [-3.61755338e-05,  8.27072199e-06, -1.99562564e-05, ...,\n",
       "                     nan,             nan,             nan],\n",
       "        [-2.48657016e-05,  1.42740519e-05, -4.04179518e-05, ...,\n",
       "                     nan,             nan,             nan],\n",
       "        [            nan,             nan,             nan, ...,\n",
       "                     nan,             nan,             nan]],\n",
       "\n",
       "       [[            nan, -5.69614897e-08,  1.26840484e-06, ...,\n",
       "                     nan,             nan,             nan],\n",
       "        [            nan, -2.45101728e-06,  1.73289118e-05, ...,\n",
       "          1.13680558e-11, -3.90688220e-12,             nan],\n",
       "        [            nan, -4.96097209e-06, -2.31541126e-05, ...,\n",
       "         -1.45967932e-10,  4.85819926e-11,             nan],\n",
       "        ...,\n",
       "        [ 4.19686054e-04, -3.28867533e-03,  1.00457445e-02, ...,\n",
       "          6.18358413e-08,  1.59000521e-07,             nan],\n",
       "        [ 1.55831361e-03, -9.51439049e-03,  3.22203897e-02, ...,\n",
       "         -2.27378294e-08, -2.63678999e-08,             nan],\n",
       "        [            nan,             nan,             nan, ...,\n",
       "          1.36131213e-08,  1.00478248e-08,             nan]],\n",
       "\n",
       "       [[            nan,  1.76707232e-07, -3.91209869e-06, ...,\n",
       "                     nan,             nan,             nan],\n",
       "        [            nan,  7.60758303e-06, -5.37888191e-05, ...,\n",
       "         -3.56144211e-11,  1.22346846e-11,             nan],\n",
       "        [            nan,  1.55776179e-05,  7.11511748e-05, ...,\n",
       "          4.55548266e-10, -1.51590226e-10,             nan],\n",
       "        ...,\n",
       "        [-2.85092904e-03, -6.03869557e-03, -1.45514756e-02, ...,\n",
       "          5.59382496e-09, -5.55782776e-07,             nan],\n",
       "        [-9.71537302e-05,  8.09889100e-03, -1.47150913e-02, ...,\n",
       "          6.74201743e-08,  8.19478672e-08,             nan],\n",
       "        [            nan,             nan,             nan, ...,\n",
       "         -4.26170494e-08, -3.08436903e-08,             nan]],\n",
       "\n",
       "       ...,\n",
       "\n",
       "       [[            nan, -4.31334891e-04,  2.16372823e-03, ...,\n",
       "                     nan,             nan,             nan],\n",
       "        [            nan,  4.43146145e-03, -3.98326591e-02, ...,\n",
       "         -5.46911094e-09, -1.39613732e-09,             nan],\n",
       "        [            nan,  5.23351207e-02, -5.34857094e-01, ...,\n",
       "          1.39325733e-08,  5.92143001e-09,             nan],\n",
       "        ...,\n",
       "        [ 6.08456414e-03, -2.23635603e-03, -1.13073587e-02, ...,\n",
       "         -7.54790881e-06,  8.28683483e-07,             nan],\n",
       "        [ 1.18875720e-01, -1.61439981e-02,  1.12891840e-02, ...,\n",
       "         -7.15692920e-07,  1.45897614e-08,             nan],\n",
       "        [            nan,             nan,             nan, ...,\n",
       "                     nan,             nan,             nan]],\n",
       "\n",
       "       [[            nan,  3.36338038e-04, -1.89669069e-03, ...,\n",
       "                     nan,             nan,             nan],\n",
       "        [            nan, -2.94704549e-03,  1.84862521e-02, ...,\n",
       "          1.69121850e-09,  4.43619419e-10,             nan],\n",
       "        [            nan, -3.49732814e-03, -1.71810567e-01, ...,\n",
       "         -4.28902336e-09, -1.88086235e-09,             nan],\n",
       "        ...,\n",
       "        [ 6.19679806e-04, -5.00169350e-03, -1.22020215e-01, ...,\n",
       "          2.38054008e-06, -2.60391460e-07,             nan],\n",
       "        [ 1.12347794e-03,  8.72934610e-03,  7.28580682e-03, ...,\n",
       "          2.25071247e-07, -4.17279589e-09,             nan],\n",
       "        [            nan,             nan,             nan, ...,\n",
       "                     nan,             nan,             nan]],\n",
       "\n",
       "       [[            nan,             nan,             nan, ...,\n",
       "                     nan,             nan,             nan],\n",
       "        [            nan,             nan,             nan, ...,\n",
       "                     nan,             nan,             nan],\n",
       "        [            nan,             nan,             nan, ...,\n",
       "                     nan,             nan,             nan],\n",
       "        ...,\n",
       "        [ 1.23235543e-04,  2.40405570e-05, -4.21986333e-04, ...,\n",
       "                     nan,             nan,             nan],\n",
       "        [-5.06254946e-05, -6.75471601e-05, -4.55891131e-04, ...,\n",
       "                     nan,             nan,             nan],\n",
       "        [            nan,             nan,             nan, ...,\n",
       "                     nan,             nan,             nan]]])"
      ]
     },
     "execution_count": 37,
     "metadata": {},
     "output_type": "execute_result"
    }
   ],
   "source": [
    "t1_data = t1_img.get_fdata()\n",
    "t1_data\n"
   ]
  },
  {
   "cell_type": "code",
   "execution_count": 38,
   "metadata": {},
   "outputs": [],
   "source": [
    "x_slice = t1_data[9, :, :]\n",
    "y_slice = t1_data[:, 19, :]\n",
    "z_slice = t1_data[:, :, 9]"
   ]
  },
  {
   "cell_type": "code",
   "execution_count": 39,
   "metadata": {},
   "outputs": [
    {
     "data": {
      "image/png": "[encoded data removed]",
      "text/plain": [
       "<Figure size 640x480 with 3 Axes>"
      ]
     },
     "metadata": {},
     "output_type": "display_data"
    }
   ],
   "source": [
    "slices = [x_slice, y_slice, z_slice]\n",
    "\n",
    "fig, axes = plt.subplots(1, len(slices))\n",
    "for i, slice in enumerate(slices):\n",
    "    axes[i].imshow(slice.T, cmap=\"gray\", origin=\"lower\")"
   ]
  },
  {
   "cell_type": "code",
   "execution_count": null,
   "metadata": {},
   "outputs": [],
   "source": []
  }
 ],
 "metadata": {
  "kernelspec": {
   "display_name": "Python 3 (ipykernel)",
   "language": "python",
   "name": "python3"
  },
  "language_info": {
   "codemirror_mode": {
    "name": "ipython",
    "version": 3
   },
   "file_extension": ".py",
   "mimetype": "text/x-python",
   "name": "python",
   "nbconvert_exporter": "python",
   "pygments_lexer": "ipython3",
   "version": "3.8.6"
  }
 },
 "nbformat": 4,
 "nbformat_minor": 4
}
