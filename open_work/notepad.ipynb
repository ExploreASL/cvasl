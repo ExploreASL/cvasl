{
 "cells": [
  {
   "cell_type": "markdown",
   "metadata": {},
   "source": [
    "# notepad"
   ]
  },
  {
   "cell_type": "markdown",
   "metadata": {},
   "source": [
    "## Imports"
   ]
  },
  {
   "cell_type": "markdown",
   "metadata": {},
   "source": [
    "The data will be processed using "
   ]
  },
  {
   "cell_type": "code",
   "execution_count": 4,
   "metadata": {},
   "outputs": [],
   "source": [
    "import os       # using operating system dependent functionality (folders)\n",
    "import glob\n",
    "import pandas as pd # data analysis and manipulation\n",
    "import numpy as np    # numerical computing (manipulating and performing operations on arrays of data)\n",
    "import copy     # Can Copy and Deepcopy files so original file is untouched.\n",
    "from ipywidgets import IntSlider, Output\n",
    "import ipywidgets as widgets\n",
    "from IPython.display import display\n",
    "import matplotlib.pyplot as plt\n",
    "#import SimpleITK as sitk\n",
    "import skimage\n",
    "import hashlib\n",
    "import sys\n",
    "sys.path.insert(0, '../') # path to functions\n",
    "from brainspin import file_handler as fh # \n",
    "from brainspin import mold #\n",
    "from brainspin import carve\n",
    "from brainspin.file_handler import Config"
   ]
  },
  {
   "cell_type": "code",
   "execution_count": 22,
   "metadata": {},
   "outputs": [],
   "source": [
    "\n",
    "def hash_folder(origin_folder1, file_extension, made, force=False):\n",
    "    \"\"\"Hashing function to be used by command line.\n",
    "\n",
    "    :param origin_folder1: The string of the folder with files to hash\n",
    "    :type origin_folder1: str\n",
    "    :param file_extension: File extension\n",
    "    :type file_extension: str\n",
    "    :param made: file directory where csv with hashes will be put\n",
    "    :type made: str\n",
    "    \"\"\"\n",
    "    filepath = os.path.join(made, 'hash_output.csv')\n",
    "    df = hash_rash(origin_folder1, file_extension)\n",
    "    if not force:\n",
    "        if os.path.isfile(filepath):\n",
    "            return\n",
    "    try:\n",
    "        os.makedirs(os.path.dirname(filepath))\n",
    "    except FileExistsError:\n",
    "        pass\n",
    "\n",
    "    df.to_csv(filepath)\n",
    "\n",
    "# def save_preprocessed(array, out_fname, force):\n",
    "#     \"\"\"\n",
    "#     This function is written to be called by the cli module.\n",
    "#     It stores arrays in a directory.\n",
    "#     \"\"\"\n",
    "#     if not force:\n",
    "#         if os.path.isfile(out_fname):\n",
    "#             return\n",
    "#     try:\n",
    "#         os.makedirs(os.path.dirname(out_fname))\n",
    "    # except FileExistsError:\n",
    "    #     pass\n",
    "    # np.save(out_fname, array, allow_pickle=False)\n",
    "\n",
    "\n",
    "def hash_rash(origin_folder1, file_extension):\n",
    "    \"\"\"Hashing function to check files are not corrupted or to assure\n",
    "    files are changed.\n",
    "\n",
    "    :param origin_folder1: The string of the folder with files to hash\n",
    "    :type origin_folder1: str\n",
    "    :param file_extension: File extension\n",
    "    :type file_extension: str\n",
    "\n",
    "    :returns: Dataframe with hashes for what is in folder\n",
    "    :rtype: ~pandas.DataFrame\n",
    "    \"\"\"\n",
    "    hash_list = []\n",
    "    file_names = []\n",
    "    files = '**/*.' + file_extension\n",
    "    \n",
    "    non_suspects1 = glob.glob(\n",
    "        os.path.join(origin_folder1, files),\n",
    "        recursive=True,\n",
    "    )\n",
    "    # print(non_suspects1)\n",
    "    BUF_SIZE = 65536\n",
    "    for file in non_suspects1:\n",
    "        sha256 = hashlib.sha256()\n",
    "        with open(file, 'rb') as f:\n",
    "            while True:\n",
    "                data = f.read(BUF_SIZE)\n",
    "                if not data:\n",
    "                    break\n",
    "                sha256.update(data)\n",
    "        result = sha256.hexdigest()\n",
    "        hash_list.append(result)\n",
    "        file_names.append(file)\n",
    "        #print(file_names)\n",
    "    df = pd.DataFrame(hash_list, file_names)\n",
    "    df.columns = [\"hash\"]\n",
    "    df = df.reset_index()\n",
    "    df = df.rename(columns={'index': 'file_name'})\n",
    "    df.to_csv('out.csv')\n",
    "\n",
    "    return df\n"
   ]
  },
  {
   "cell_type": "code",
   "execution_count": 23,
   "metadata": {
    "tags": []
   },
   "outputs": [],
   "source": [
    "output = hash_folder('../not_pushed', 'gz', 'hopi')"
   ]
  },
  {
   "cell_type": "code",
   "execution_count": 24,
   "metadata": {
    "tags": []
   },
   "outputs": [
    {
     "data": {
      "text/html": [
       "<div>\n",
       "<style scoped>\n",
       "    .dataframe tbody tr th:only-of-type {\n",
       "        vertical-align: middle;\n",
       "    }\n",
       "\n",
       "    .dataframe tbody tr th {\n",
       "        vertical-align: top;\n",
       "    }\n",
       "\n",
       "    .dataframe thead th {\n",
       "        text-align: right;\n",
       "    }\n",
       "</style>\n",
       "<table border=\"1\" class=\"dataframe\">\n",
       "  <thead>\n",
       "    <tr style=\"text-align: right;\">\n",
       "      <th></th>\n",
       "      <th>Unnamed: 0</th>\n",
       "      <th>file_name</th>\n",
       "      <th>hash</th>\n",
       "    </tr>\n",
       "  </thead>\n",
       "  <tbody>\n",
       "    <tr>\n",
       "      <th>0</th>\n",
       "      <td>0</td>\n",
       "      <td>../not_pushed\\data_anonymized\\EPAD\\040EPAD0000...</td>\n",
       "      <td>1057b8d371d5816349ebef5d56a10fe28332dfccdaae47...</td>\n",
       "    </tr>\n",
       "    <tr>\n",
       "      <th>1</th>\n",
       "      <td>1</td>\n",
       "      <td>../not_pushed\\data_anonymized\\EPAD\\040EPAD0000...</td>\n",
       "      <td>1312dfb271ebad0ad2ccbed73eb26a0d3c4e323efb4a9a...</td>\n",
       "    </tr>\n",
       "    <tr>\n",
       "      <th>2</th>\n",
       "      <td>2</td>\n",
       "      <td>../not_pushed\\data_anonymized\\EPAD\\040EPAD0000...</td>\n",
       "      <td>ef1be36f689e5710ca5c2a7f91251a335c363a42c8d38b...</td>\n",
       "    </tr>\n",
       "    <tr>\n",
       "      <th>3</th>\n",
       "      <td>3</td>\n",
       "      <td>../not_pushed\\data_anonymized\\HCP\\HCA6061757\\T...</td>\n",
       "      <td>25cc6080428b99883557f28c4ba0c31eac5eafb1bed6c5...</td>\n",
       "    </tr>\n",
       "    <tr>\n",
       "      <th>4</th>\n",
       "      <td>4</td>\n",
       "      <td>../not_pushed\\data_anonymized\\HCP\\HCA6061757\\T...</td>\n",
       "      <td>ba2b90d8203e5918117906208944e6778e3f1290cbf549...</td>\n",
       "    </tr>\n",
       "    <tr>\n",
       "      <th>5</th>\n",
       "      <td>5</td>\n",
       "      <td>../not_pushed\\data_anonymized\\Insight46\\sub-19...</td>\n",
       "      <td>288278eab96a1b1a8f7a76380d2ab4a32e2cdd93cc685f...</td>\n",
       "    </tr>\n",
       "    <tr>\n",
       "      <th>6</th>\n",
       "      <td>6</td>\n",
       "      <td>../not_pushed\\data_anonymized\\Insight46\\sub-19...</td>\n",
       "      <td>d3f6f6ff76b9f8cd292c4ff14b6e1bdd552baceb976c80...</td>\n",
       "    </tr>\n",
       "    <tr>\n",
       "      <th>7</th>\n",
       "      <td>7</td>\n",
       "      <td>../not_pushed\\data_anonymized\\Insight46\\sub-19...</td>\n",
       "      <td>647db82b345573f4d6123a11aab0033edd61e267607a21...</td>\n",
       "    </tr>\n",
       "    <tr>\n",
       "      <th>8</th>\n",
       "      <td>8</td>\n",
       "      <td>../not_pushed\\data_anonymized\\Insight46\\sub-19...</td>\n",
       "      <td>5a696e998b28cc31eda6b7dab8816e7746bad923f93ccd...</td>\n",
       "    </tr>\n",
       "    <tr>\n",
       "      <th>9</th>\n",
       "      <td>9</td>\n",
       "      <td>../not_pushed\\data_anonymized\\Insight46\\sub-19...</td>\n",
       "      <td>f1531b68cb3c5f8038978ea7a90e62f276e0952b88226a...</td>\n",
       "    </tr>\n",
       "    <tr>\n",
       "      <th>10</th>\n",
       "      <td>10</td>\n",
       "      <td>../not_pushed\\data_anonymized\\Insight46\\sub-19...</td>\n",
       "      <td>8c2c33e1bcb0623df0e1e8f67dec3f2a9e498231d2a968...</td>\n",
       "    </tr>\n",
       "    <tr>\n",
       "      <th>11</th>\n",
       "      <td>11</td>\n",
       "      <td>../not_pushed\\data_anonymized\\SABRE\\17174\\FLAI...</td>\n",
       "      <td>0b521d1aab53248553b54a67f7710ece5373a590b9b3bb...</td>\n",
       "    </tr>\n",
       "    <tr>\n",
       "      <th>12</th>\n",
       "      <td>12</td>\n",
       "      <td>../not_pushed\\data_anonymized\\SABRE\\17174\\T1_O...</td>\n",
       "      <td>c5cbf9c26095c7a875f443b01886f0676099c0dd704915...</td>\n",
       "    </tr>\n",
       "    <tr>\n",
       "      <th>13</th>\n",
       "      <td>13</td>\n",
       "      <td>../not_pushed\\data_anonymized\\SABRE\\17174\\ASL_...</td>\n",
       "      <td>17cb4565676ff788090ab6cb59f40206abca5a6b289a7c...</td>\n",
       "    </tr>\n",
       "    <tr>\n",
       "      <th>14</th>\n",
       "      <td>14</td>\n",
       "      <td>../not_pushed\\data_anonymized\\SABRE\\17174\\ASL_...</td>\n",
       "      <td>84e952430a3bfe5943309071babc141eaf54a2f1459ebf...</td>\n",
       "    </tr>\n",
       "    <tr>\n",
       "      <th>15</th>\n",
       "      <td>15</td>\n",
       "      <td>../not_pushed\\data_anonymized\\SABRE\\17174\\ASL_...</td>\n",
       "      <td>1162b602c27dc64b248bc5ced40736e3463a255907a9f3...</td>\n",
       "    </tr>\n",
       "    <tr>\n",
       "      <th>16</th>\n",
       "      <td>16</td>\n",
       "      <td>../not_pushed\\data_anonymized\\SABRE\\17174\\ASL_...</td>\n",
       "      <td>492d3fb02263e064f8c725c73c811907cf76d6a485ed15...</td>\n",
       "    </tr>\n",
       "    <tr>\n",
       "      <th>17</th>\n",
       "      <td>17</td>\n",
       "      <td>../not_pushed\\data_anonymized\\StrokeMRI\\sub-59...</td>\n",
       "      <td>996627e8e3be007f2a366bf0f818ce038893306125e744...</td>\n",
       "    </tr>\n",
       "    <tr>\n",
       "      <th>18</th>\n",
       "      <td>18</td>\n",
       "      <td>../not_pushed\\data_anonymized\\StrokeMRI\\sub-59...</td>\n",
       "      <td>f6b4d54cb55d33fa5134ff3090ca7c79de6e594d479e60...</td>\n",
       "    </tr>\n",
       "    <tr>\n",
       "      <th>19</th>\n",
       "      <td>19</td>\n",
       "      <td>../not_pushed\\data_anonymized\\StrokeMRI\\sub-59...</td>\n",
       "      <td>fdc8981fb38cdf57722f0d39532a9d84b2e6845ff15051...</td>\n",
       "    </tr>\n",
       "    <tr>\n",
       "      <th>20</th>\n",
       "      <td>20</td>\n",
       "      <td>../not_pushed\\data_anonymized\\StrokeMRI\\sub-59...</td>\n",
       "      <td>f62c00efda5096f077d5b4ab3baeda586dd8fa11fab0cc...</td>\n",
       "    </tr>\n",
       "    <tr>\n",
       "      <th>21</th>\n",
       "      <td>21</td>\n",
       "      <td>../not_pushed\\data_anonymized\\StrokeMRI\\sub-59...</td>\n",
       "      <td>8522df7157d2b6eba539ed75083e3fe261eac6cb1a125e...</td>\n",
       "    </tr>\n",
       "    <tr>\n",
       "      <th>22</th>\n",
       "      <td>22</td>\n",
       "      <td>../not_pushed\\data_anonymized\\StrokeMRI\\sub-59...</td>\n",
       "      <td>8066ce76d1eadf3b8a2f3ec5f56a40b292944dea27c145...</td>\n",
       "    </tr>\n",
       "    <tr>\n",
       "      <th>23</th>\n",
       "      <td>23</td>\n",
       "      <td>../not_pushed\\data_anonymized\\TOP\\sub-0012_1\\F...</td>\n",
       "      <td>22101b1f2c21d852269ff1abfdcb7b208c7e5d3b9096e6...</td>\n",
       "    </tr>\n",
       "    <tr>\n",
       "      <th>24</th>\n",
       "      <td>24</td>\n",
       "      <td>../not_pushed\\data_anonymized\\TOP\\sub-0012_1\\T...</td>\n",
       "      <td>c13df60d08d16a65fe3256e3c82d7ebfd82e2915c5b5e1...</td>\n",
       "    </tr>\n",
       "    <tr>\n",
       "      <th>25</th>\n",
       "      <td>25</td>\n",
       "      <td>../not_pushed\\data_anonymized\\TOP\\sub-0012_1\\A...</td>\n",
       "      <td>f10aaa6c62ca57faf3ac642bae5f6ee7c4d175abfa452f...</td>\n",
       "    </tr>\n",
       "    <tr>\n",
       "      <th>26</th>\n",
       "      <td>26</td>\n",
       "      <td>../not_pushed\\data_anonymized\\TOP\\sub-0012_1\\A...</td>\n",
       "      <td>762ad6baad2a5b8c095c459178656cd984754671b6f33a...</td>\n",
       "    </tr>\n",
       "    <tr>\n",
       "      <th>27</th>\n",
       "      <td>27</td>\n",
       "      <td>../not_pushed\\data_anonymized\\TOP\\sub-0012_1\\A...</td>\n",
       "      <td>1d9328b36c42fbda0469f5c0dcd71fbfc1018df1755af0...</td>\n",
       "    </tr>\n",
       "    <tr>\n",
       "      <th>28</th>\n",
       "      <td>28</td>\n",
       "      <td>../not_pushed\\data_anonymized\\TOP\\sub-0012_1\\A...</td>\n",
       "      <td>ec79b89873605f3c58d00c77af6b401de45005d5af4264...</td>\n",
       "    </tr>\n",
       "  </tbody>\n",
       "</table>\n",
       "</div>"
      ],
      "text/plain": [
       "    Unnamed: 0                                          file_name  \\\n",
       "0            0  ../not_pushed\\data_anonymized\\EPAD\\040EPAD0000...   \n",
       "1            1  ../not_pushed\\data_anonymized\\EPAD\\040EPAD0000...   \n",
       "2            2  ../not_pushed\\data_anonymized\\EPAD\\040EPAD0000...   \n",
       "3            3  ../not_pushed\\data_anonymized\\HCP\\HCA6061757\\T...   \n",
       "4            4  ../not_pushed\\data_anonymized\\HCP\\HCA6061757\\T...   \n",
       "5            5  ../not_pushed\\data_anonymized\\Insight46\\sub-19...   \n",
       "6            6  ../not_pushed\\data_anonymized\\Insight46\\sub-19...   \n",
       "7            7  ../not_pushed\\data_anonymized\\Insight46\\sub-19...   \n",
       "8            8  ../not_pushed\\data_anonymized\\Insight46\\sub-19...   \n",
       "9            9  ../not_pushed\\data_anonymized\\Insight46\\sub-19...   \n",
       "10          10  ../not_pushed\\data_anonymized\\Insight46\\sub-19...   \n",
       "11          11  ../not_pushed\\data_anonymized\\SABRE\\17174\\FLAI...   \n",
       "12          12  ../not_pushed\\data_anonymized\\SABRE\\17174\\T1_O...   \n",
       "13          13  ../not_pushed\\data_anonymized\\SABRE\\17174\\ASL_...   \n",
       "14          14  ../not_pushed\\data_anonymized\\SABRE\\17174\\ASL_...   \n",
       "15          15  ../not_pushed\\data_anonymized\\SABRE\\17174\\ASL_...   \n",
       "16          16  ../not_pushed\\data_anonymized\\SABRE\\17174\\ASL_...   \n",
       "17          17  ../not_pushed\\data_anonymized\\StrokeMRI\\sub-59...   \n",
       "18          18  ../not_pushed\\data_anonymized\\StrokeMRI\\sub-59...   \n",
       "19          19  ../not_pushed\\data_anonymized\\StrokeMRI\\sub-59...   \n",
       "20          20  ../not_pushed\\data_anonymized\\StrokeMRI\\sub-59...   \n",
       "21          21  ../not_pushed\\data_anonymized\\StrokeMRI\\sub-59...   \n",
       "22          22  ../not_pushed\\data_anonymized\\StrokeMRI\\sub-59...   \n",
       "23          23  ../not_pushed\\data_anonymized\\TOP\\sub-0012_1\\F...   \n",
       "24          24  ../not_pushed\\data_anonymized\\TOP\\sub-0012_1\\T...   \n",
       "25          25  ../not_pushed\\data_anonymized\\TOP\\sub-0012_1\\A...   \n",
       "26          26  ../not_pushed\\data_anonymized\\TOP\\sub-0012_1\\A...   \n",
       "27          27  ../not_pushed\\data_anonymized\\TOP\\sub-0012_1\\A...   \n",
       "28          28  ../not_pushed\\data_anonymized\\TOP\\sub-0012_1\\A...   \n",
       "\n",
       "                                                 hash  \n",
       "0   1057b8d371d5816349ebef5d56a10fe28332dfccdaae47...  \n",
       "1   1312dfb271ebad0ad2ccbed73eb26a0d3c4e323efb4a9a...  \n",
       "2   ef1be36f689e5710ca5c2a7f91251a335c363a42c8d38b...  \n",
       "3   25cc6080428b99883557f28c4ba0c31eac5eafb1bed6c5...  \n",
       "4   ba2b90d8203e5918117906208944e6778e3f1290cbf549...  \n",
       "5   288278eab96a1b1a8f7a76380d2ab4a32e2cdd93cc685f...  \n",
       "6   d3f6f6ff76b9f8cd292c4ff14b6e1bdd552baceb976c80...  \n",
       "7   647db82b345573f4d6123a11aab0033edd61e267607a21...  \n",
       "8   5a696e998b28cc31eda6b7dab8816e7746bad923f93ccd...  \n",
       "9   f1531b68cb3c5f8038978ea7a90e62f276e0952b88226a...  \n",
       "10  8c2c33e1bcb0623df0e1e8f67dec3f2a9e498231d2a968...  \n",
       "11  0b521d1aab53248553b54a67f7710ece5373a590b9b3bb...  \n",
       "12  c5cbf9c26095c7a875f443b01886f0676099c0dd704915...  \n",
       "13  17cb4565676ff788090ab6cb59f40206abca5a6b289a7c...  \n",
       "14  84e952430a3bfe5943309071babc141eaf54a2f1459ebf...  \n",
       "15  1162b602c27dc64b248bc5ced40736e3463a255907a9f3...  \n",
       "16  492d3fb02263e064f8c725c73c811907cf76d6a485ed15...  \n",
       "17  996627e8e3be007f2a366bf0f818ce038893306125e744...  \n",
       "18  f6b4d54cb55d33fa5134ff3090ca7c79de6e594d479e60...  \n",
       "19  fdc8981fb38cdf57722f0d39532a9d84b2e6845ff15051...  \n",
       "20  f62c00efda5096f077d5b4ab3baeda586dd8fa11fab0cc...  \n",
       "21  8522df7157d2b6eba539ed75083e3fe261eac6cb1a125e...  \n",
       "22  8066ce76d1eadf3b8a2f3ec5f56a40b292944dea27c145...  \n",
       "23  22101b1f2c21d852269ff1abfdcb7b208c7e5d3b9096e6...  \n",
       "24  c13df60d08d16a65fe3256e3c82d7ebfd82e2915c5b5e1...  \n",
       "25  f10aaa6c62ca57faf3ac642bae5f6ee7c4d175abfa452f...  \n",
       "26  762ad6baad2a5b8c095c459178656cd984754671b6f33a...  \n",
       "27  1d9328b36c42fbda0469f5c0dcd71fbfc1018df1755af0...  \n",
       "28  ec79b89873605f3c58d00c77af6b401de45005d5af4264...  "
      ]
     },
     "execution_count": 24,
     "metadata": {},
     "output_type": "execute_result"
    }
   ],
   "source": [
    "pd.read_csv('out.csv')"
   ]
  },
  {
   "cell_type": "code",
   "execution_count": null,
   "metadata": {
    "tags": []
   },
   "outputs": [],
   "source": [
    "file_directory = '../not_pushed'\n",
    "file_directory_list = glob.glob(\n",
    "    os.path.join(file_directory, '**/*.tsv'),\n",
    "    recursive=True,\n",
    "    )\n",
    "for file in file_directory_list:\n",
    "            print(file)"
   ]
  },
  {
   "cell_type": "code",
   "execution_count": null,
   "metadata": {
    "tags": []
   },
   "outputs": [],
   "source": [
    "# non_suspects1 = glob.glob(os.path.join('../not_pushed','**/*.tsv' ))\n",
    "# print(non_suspects1)\n",
    "for file in files:\n",
    "        if file.endswith('.tsv'):\n",
    "            print(file)"
   ]
  },
  {
   "cell_type": "markdown",
   "metadata": {},
   "source": [
    "## Load files"
   ]
  },
  {
   "cell_type": "code",
   "execution_count": null,
   "metadata": {},
   "outputs": [],
   "source": []
  },
  {
   "cell_type": "markdown",
   "metadata": {},
   "source": [
    "Use the config pathways for the different datasets"
   ]
  },
  {
   "cell_type": "code",
   "execution_count": null,
   "metadata": {},
   "outputs": [],
   "source": [
    "config = Config()\n",
    "root_mri_directory = config.get_directory('root_mri_directory')"
   ]
  },
  {
   "cell_type": "code",
   "execution_count": null,
   "metadata": {
    "tags": []
   },
   "outputs": [],
   "source": [
    "tsv_pattern = os.path.join(root_mri_directory, '**/*.tsv')\n",
    "tsv_files = glob.glob(tsv_pattern, recursive=True)\n"
   ]
  },
  {
   "cell_type": "code",
   "execution_count": null,
   "metadata": {
    "tags": []
   },
   "outputs": [],
   "source": [
    "tsv_files"
   ]
  },
  {
   "cell_type": "code",
   "execution_count": null,
   "metadata": {
    "tags": []
   },
   "outputs": [],
   "source": [
    "dataframe_example = pd.read_csv(tsv_files[0], sep='\\t')"
   ]
  },
  {
   "cell_type": "code",
   "execution_count": null,
   "metadata": {
    "tags": []
   },
   "outputs": [],
   "source": [
    "dataframe_example"
   ]
  },
  {
   "cell_type": "code",
   "execution_count": null,
   "metadata": {
    "tags": []
   },
   "outputs": [],
   "source": [
    "mri_pattern = os.path.join(root_mri_directory, '**/*.gz')\n",
    "gz_files = glob.glob(mri_pattern, recursive=True)"
   ]
  },
  {
   "cell_type": "code",
   "execution_count": null,
   "metadata": {
    "tags": []
   },
   "outputs": [],
   "source": [
    "gz_files"
   ]
  },
  {
   "cell_type": "code",
   "execution_count": null,
   "metadata": {
    "tags": []
   },
   "outputs": [],
   "source": [
    "# here we can use something not in the base environment just to check that these files exist correctly\n",
    "\n",
    "\n",
    "\n",
    "# A path to an mrid brain .nii image:\n",
    "t1_fn = gz_files[0]\n",
    "\n",
    "# Read the .nii image containing the volume with SimpleITK:\n",
    "sitk_t1 = sitk.ReadImage(t1_fn)\n",
    "\n",
    "# and access the numpy array:\n",
    "t1 = sitk.GetArrayFromImage(sitk_t1)\n",
    "\n",
    "# now display it"
   ]
  },
  {
   "cell_type": "code",
   "execution_count": null,
   "metadata": {
    "tags": []
   },
   "outputs": [],
   "source": [
    "t1.shape"
   ]
  },
  {
   "cell_type": "code",
   "execution_count": null,
   "metadata": {},
   "outputs": [],
   "source": [
    "# import plotly\n",
    "# import plotly.express as px\n",
    "\n",
    "\n",
    "# fig = px.imshow(\n",
    "#     t1,\n",
    "#     facet_col=1,\n",
    "#     animation_frame=0,\n",
    "#     binary_string=True,\n",
    "#     binary_format=\"jpg\",\n",
    "# )\n",
    "# fig.layout.annotations[0][\"text\"] = \"Something0\"\n",
    "# fig.layout.annotations[1][\"text\"] = \"Something2\"\n",
    "# plotly.io.show(fig)"
   ]
  },
  {
   "cell_type": "code",
   "execution_count": null,
   "metadata": {},
   "outputs": [],
   "source": [
    "sitk.Show(sitk_t1, debugOn=True)"
   ]
  },
  {
   "cell_type": "code",
   "execution_count": null,
   "metadata": {
    "tags": []
   },
   "outputs": [],
   "source": [
    "fig = plt.figure()\n",
    "ax = fig.add_subplot(111, projection='3d')\n",
    "data = t1\n",
    "z, x, y = data.nonzero()\n",
    "ax.scatter(x, y, z, c=z, alpha=1)\n",
    "plt.show()"
   ]
  },
  {
   "cell_type": "code",
   "execution_count": null,
   "metadata": {},
   "outputs": [],
   "source": []
  }
 ],
 "metadata": {
  "kernelspec": {
   "display_name": "Python 3 (ipykernel)",
   "language": "python",
   "name": "python3"
  },
  "language_info": {
   "codemirror_mode": {
    "name": "ipython",
    "version": 3
   },
   "file_extension": ".py",
   "mimetype": "text/x-python",
   "name": "python",
   "nbconvert_exporter": "python",
   "pygments_lexer": "ipython3",
   "version": "3.8.6"
  }
 },
 "nbformat": 4,
 "nbformat_minor": 4
}
