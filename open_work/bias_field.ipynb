{
 "cells": [
  {
   "cell_type": "markdown",
   "id": "1040ffbf-b366-41d3-ad7c-5946b8134c31",
   "metadata": {},
   "source": [
    "# Bias field correction"
   ]
  },
  {
   "cell_type": "markdown",
   "id": "3f3d7746-5615-47a4-8b66-c589f4f205a8",
   "metadata": {},
   "source": [
    "Attempt 1 : use sitk"
   ]
  },
  {
   "cell_type": "markdown",
   "id": "3fa2912d-b2cf-4ef6-853e-a531e0ace653",
   "metadata": {},
   "source": [
    "### import libraries"
   ]
  },
  {
   "cell_type": "code",
   "execution_count": null,
   "id": "41f70b82-864c-4eef-864a-02698eb467a7",
   "metadata": {
    "tags": []
   },
   "outputs": [],
   "source": [
    "import os       # using operating system dependent functionality (folders)\n",
    "import glob\n",
    "import pandas as pd # data analysis and manipulation\n",
    "import numpy as np    # numerical computing (manipulating and performing operations on arrays of data)\n",
    "import copy     # Can Copy and Deepcopy files so original file is untouched.\n",
    "from ipywidgets import IntSlider, Output\n",
    "import ipywidgets as widgets\n",
    "from IPython.display import display\n",
    "import matplotlib.pyplot as plt\n",
    "import SimpleITK as sitk\n",
    "import skimage\n",
    "import hashlib\n",
    "import sys\n",
    "sys.path.insert(0, '../') # path to functions\n",
    "from brainspin import file_handler as fh # \n",
    "from brainspin import mold #\n",
    "from brainspin import carve\n",
    "from brainspin.file_handler import Config"
   ]
  },
  {
   "cell_type": "code",
   "execution_count": null,
   "id": "c4bf09ce-83ef-4555-8791-7ebe1f79573a",
   "metadata": {
    "tags": []
   },
   "outputs": [],
   "source": []
  },
  {
   "cell_type": "code",
   "execution_count": null,
   "id": "9a92562d-da8a-4bb0-808b-40bd0e37d12b",
   "metadata": {
    "tags": []
   },
   "outputs": [],
   "source": []
  },
  {
   "cell_type": "code",
   "execution_count": null,
   "id": "cd24d0a2-e67c-4666-a645-0061bfcb3386",
   "metadata": {
    "tags": []
   },
   "outputs": [],
   "source": []
  },
  {
   "cell_type": "code",
   "execution_count": null,
   "id": "50de790c-ff1e-4c8e-89c9-da130a40cd22",
   "metadata": {},
   "outputs": [],
   "source": [
    "### Let's see how it works on a 2D, then on a nifti "
   ]
  },
  {
   "cell_type": "code",
   "execution_count": null,
   "id": "d9077e08-4775-41f0-a09a-24fe8edb0da6",
   "metadata": {
    "tags": []
   },
   "outputs": [],
   "source": [
    "config = Config()\n",
    "root_mri_directory = config.get_directory('root_mri_directory')\n",
    "mri_pattern = os.path.join(root_mri_directory, '**/*.gz')\n",
    "gz_files = glob.glob(mri_pattern, recursive=True)"
   ]
  },
  {
   "cell_type": "code",
   "execution_count": null,
   "id": "3f4e4cef-3e52-44af-b848-303673f4c73e",
   "metadata": {
    "tags": []
   },
   "outputs": [],
   "source": []
  },
  {
   "cell_type": "code",
   "execution_count": null,
   "id": "128f1a52-cec8-427f-9671-ed757b115239",
   "metadata": {
    "tags": []
   },
   "outputs": [],
   "source": [
    "\n",
    "def show_me_debiased(image_filename):\n",
    "    # reading in on sitk.sitkUInt8 may be wrong, but anyways\n",
    "    inputImage = sitk.ReadImage(image_filename,sitk.sitkUInt8)\n",
    "\n",
    "    maskImage = sitk.OtsuThreshold( inputImage, 0, 1, 200 )\n",
    "\n",
    "    inputImage = sitk.Cast( inputImage, sitk.sitkFloat32 )\n",
    "\n",
    "    corrector = sitk.N4BiasFieldCorrectionImageFilter();\n",
    "\n",
    "    numberFittingLevels = 4\n",
    "\n",
    "    output = corrector.Execute( inputImage, maskImage )\n",
    "\n",
    "    outputCasted = sitk.Cast(output,sitk.sitkVectorUInt8)\n",
    "    \n",
    "    return outputCasted"
   ]
  },
  {
   "cell_type": "code",
   "execution_count": null,
   "id": "5c5e0499-3af9-486c-9a09-72b2efe6b42d",
   "metadata": {
    "tags": []
   },
   "outputs": [],
   "source": [
    "outputCasted = show_me_debiased('test/N4BiasFieldCorrection_input_image.png')\n",
    "inputImage = sitk.ReadImage('test/N4BiasFieldCorrection_input_image.png',sitk.sitkUInt8)"
   ]
  },
  {
   "cell_type": "code",
   "execution_count": null,
   "id": "b13dd9fc-ea7d-4365-a657-9aebbc8f3667",
   "metadata": {
    "tags": []
   },
   "outputs": [],
   "source": [
    "npa = sitk.GetArrayViewFromImage(outputCasted)\n",
    "opa = sitk.GetArrayViewFromImage(inputImage)\n",
    "plt.subplot(1, 2, 1) # row 1, col 2 index 1\n",
    "plt.imshow(npa,cmap='Greys',  interpolation='nearest')\n",
    "plt.title(\"Output image\")\n",
    "plt.xlabel('X-axis ')\n",
    "plt.ylabel('Y-axis ')\n",
    "\n",
    "plt.subplot(1, 2, 2) # index 2\n",
    "plt.imshow(opa,cmap='Greys',  interpolation='nearest')\n",
    "plt.title(\"Original image\")\n",
    "plt.xlabel('X-axis ')\n",
    "plt.ylabel('Y-axis ')\n",
    "\n",
    "plt.show()"
   ]
  },
  {
   "cell_type": "code",
   "execution_count": null,
   "id": "cc47444c-ed6d-4464-94de-5f43bdb6919d",
   "metadata": {
    "tags": []
   },
   "outputs": [],
   "source": [
    "outputCasted = show_me_debiased(gz_files[0])\n",
    "\n",
    "\n",
    "# Read the .nii image containing the volume with SimpleITK:\n",
    "t1_fn = gz_files[0]\n",
    "sitk_t1 = sitk.ReadImage(t1_fn)\n",
    "\n",
    "# and access the numpy array:\n",
    "t1 = sitk.GetArrayFromImage(sitk_t1)"
   ]
  },
  {
   "cell_type": "code",
   "execution_count": null,
   "id": "72331651-02f5-4151-a9f6-43524b4d1941",
   "metadata": {
    "tags": []
   },
   "outputs": [],
   "source": [
    "mold.SliceViewer(t1)"
   ]
  },
  {
   "cell_type": "code",
   "execution_count": null,
   "id": "b57d7785-96b1-4f08-9d9b-d9cc5932cdba",
   "metadata": {
    "tags": []
   },
   "outputs": [],
   "source": [
    "#sitk.GetArrayFromImage?"
   ]
  },
  {
   "cell_type": "code",
   "execution_count": null,
   "id": "0385fcb7-e338-4781-a1d3-caefd1fdd1a6",
   "metadata": {
    "tags": []
   },
   "outputs": [],
   "source": [
    "output = sitk.GetArrayFromImage(outputCasted)"
   ]
  },
  {
   "cell_type": "code",
   "execution_count": null,
   "id": "13bc7dd2-04fc-4e7f-828c-d071078e53d9",
   "metadata": {
    "tags": []
   },
   "outputs": [],
   "source": []
  },
  {
   "cell_type": "code",
   "execution_count": null,
   "id": "4745e4e2-509a-44ed-9151-1b6adf61e71b",
   "metadata": {
    "tags": []
   },
   "outputs": [],
   "source": [
    "mold.SliceViewer(output)"
   ]
  },
  {
   "cell_type": "code",
   "execution_count": null,
   "id": "d275b0ee-e84e-49fa-afa1-292298b3f817",
   "metadata": {},
   "outputs": [],
   "source": []
  }
 ],
 "metadata": {
  "kernelspec": {
   "display_name": "Python 3 (ipykernel)",
   "language": "python",
   "name": "python3"
  },
  "language_info": {
   "codemirror_mode": {
    "name": "ipython",
    "version": 3
   },
   "file_extension": ".py",
   "mimetype": "text/x-python",
   "name": "python",
   "nbconvert_exporter": "python",
   "pygments_lexer": "ipython3",
   "version": "3.9.16"
  }
 },
 "nbformat": 4,
 "nbformat_minor": 5
}
