{
 "cells": [
  {
   "cell_type": "markdown",
   "id": "0",
   "metadata": {},
   "source": [
    "# Autocombat  5 way harmonized datasets"
   ]
  },
  {
   "cell_type": "markdown",
   "id": "1",
   "metadata": {},
   "source": [
    "Note this must be run in the `comscan6` environment"
   ]
  },
  {
   "cell_type": "markdown",
   "id": "2",
   "metadata": {
    "tags": []
   },
   "source": [
    "## import libraries"
   ]
  },
  {
   "cell_type": "code",
   "execution_count": null,
   "id": "3",
   "metadata": {
    "tags": []
   },
   "outputs": [],
   "source": [
    "import os\n",
    "import sys\n",
    "\n",
    "import pandas as pd\n",
    "import numpy as np\n",
    "\n",
    "sys.path.insert(0, '../../') # path to functions\n",
    "\n",
    "import cvasl.harmony as har\n",
    "import cvasl.vendor.comscan.neurocombat as autocombat"
   ]
  },
  {
   "cell_type": "markdown",
   "id": "4",
   "metadata": {},
   "source": [
    "## Let's see how we would apply this to our data\n",
    "We will have to flip it on it's side to make it work"
   ]
  },
  {
   "cell_type": "code",
   "execution_count": 2,
   "id": "5",
   "metadata": {
    "tags": []
   },
   "outputs": [],
   "source": [
    "# Datasets for this work\n",
    "Insight46_path = '../our_datasets/Insight46/'\n",
    "MRI_path = '../our_datasets/StrokeMRI/'\n",
    "TOP_path = '../our_datasets/TOP/'\n",
    "SABRE_path = '../our_datasets/SABRE/'\n",
    "EDIS_path = '../our_datasets/EDIS/'\n",
    "HELIUS_path = '../our_datasets/HELIUS/'\n",
    "file_name = 'TrainingDataComplete.csv'\n",
    "\n",
    "TOP_file = os.path.join(TOP_path, file_name)\n",
    "MRI_file = os.path.join(MRI_path, file_name)\n",
    "SABRE_file = os.path.join(SABRE_path, file_name)\n",
    "EDIS_file = os.path.join(EDIS_path, file_name)\n",
    "Insight46_file = os.path.join(Insight46_path, file_name)\n",
    "HELIUS_file = os.path.join(HELIUS_path, file_name)\n",
    "EDIS = pd.read_csv('../new_data/TrainingDataComplete_EDIS.csv')\n",
    "HELIUS = pd.read_csv('../new_data/TrainingDataComplete_HELIUS.csv')\n",
    "SABRE = pd.read_csv('../new_data/TrainingDataComplete_SABRE.csv')\n",
    "MRI = pd.read_csv('../new_data/TrainingDataComplete_StrokeMRI.csv')\n",
    "TOP = pd.read_csv('../new_data/TrainingDataComplete_TOP.csv')\n",
    "Insight46 = pd.read_csv('../new_data/TrainingDataComplete_Insight46.csv')\n",
    "\n",
    "# TOP = pd.read_csv(TOP_file,index_col=0)\n",
    "# MRI = pd.read_csv(MRI_file,index_col=0)\n",
    "# Insight46 = pd.read_csv(Insight46_file,index_col=0)\n",
    "# SABRE = pd.read_csv(SABRE_file,index_col=0)\n",
    "# EDIS = pd.read_csv(EDIS_file,index_col=0)\n",
    "# HELIUS = pd.read_csv(HELIUS_file,index_col=0)"
   ]
  },
  {
   "cell_type": "code",
   "execution_count": 3,
   "id": "6",
   "metadata": {},
   "outputs": [],
   "source": [
    "## We found there is one aprticipant from two seperate sights (HELIUS and SABRE) named the same. There fore we will show and switch this"
   ]
  },
  {
   "cell_type": "code",
   "execution_count": null,
   "id": "7",
   "metadata": {},
   "outputs": [],
   "source": [
    "HELIUS[HELIUS['participant_id']=='sub-153852_1']"
   ]
  },
  {
   "cell_type": "code",
   "execution_count": null,
   "id": "8",
   "metadata": {},
   "outputs": [],
   "source": [
    "SABRE[SABRE['participant_id']=='sub-153852_1']"
   ]
  },
  {
   "cell_type": "code",
   "execution_count": 6,
   "id": "9",
   "metadata": {
    "tags": []
   },
   "outputs": [],
   "source": [
    "HELIUS.loc[HELIUS['participant_id']=='sub-153852_1', 'participant_id'] = 'sub-153852_1H'"
   ]
  },
  {
   "cell_type": "markdown",
   "id": "10",
   "metadata": {},
   "source": [
    "### re-assign sex where neccesary"
   ]
  },
  {
   "cell_type": "code",
   "execution_count": null,
   "id": "11",
   "metadata": {},
   "outputs": [],
   "source": [
    "sex_mapping = {1:0,2:1}\n",
    "# Insight46 = Insight46.assign(Sex = Insight46.Sex.map(sex_mapping))\n",
    "Insight46.head(3)"
   ]
  },
  {
   "cell_type": "code",
   "execution_count": 8,
   "id": "12",
   "metadata": {
    "tags": []
   },
   "outputs": [],
   "source": [
    "# EDIS = EDIS.assign(Sex = EDIS.Sex.map(sex_mapping))\n",
    "# EDIS.head(3)"
   ]
  },
  {
   "cell_type": "code",
   "execution_count": null,
   "id": "13",
   "metadata": {
    "tags": []
   },
   "outputs": [],
   "source": [
    "#SABRE = SABRE.assign(Sex = SABRE.Sex.map(sex_mapping))\n",
    "SABRE.head(3)"
   ]
  },
  {
   "cell_type": "code",
   "execution_count": 10,
   "id": "14",
   "metadata": {},
   "outputs": [],
   "source": [
    "### drop ID columns"
   ]
  },
  {
   "cell_type": "code",
   "execution_count": null,
   "id": "15",
   "metadata": {
    "tags": []
   },
   "outputs": [],
   "source": [
    "TOP = TOP.drop([ 'ID'], axis= 1)\n",
    "TOP.head(3)"
   ]
  },
  {
   "cell_type": "code",
   "execution_count": null,
   "id": "16",
   "metadata": {
    "tags": []
   },
   "outputs": [],
   "source": [
    "MRI = MRI.drop(['ID'],axis = 1)\n",
    "MRI.tail(5)"
   ]
  },
  {
   "cell_type": "code",
   "execution_count": null,
   "id": "17",
   "metadata": {
    "tags": []
   },
   "outputs": [],
   "source": [
    "EDIS = EDIS.drop(['ID'],axis = 1)\n",
    "EDIS.tail(5)"
   ]
  },
  {
   "cell_type": "code",
   "execution_count": null,
   "id": "18",
   "metadata": {
    "tags": []
   },
   "outputs": [],
   "source": [
    "SABRE = SABRE.drop(['ID'],axis = 1)\n",
    "SABRE.tail(5)"
   ]
  },
  {
   "cell_type": "code",
   "execution_count": null,
   "id": "19",
   "metadata": {
    "tags": []
   },
   "outputs": [],
   "source": [
    "HELIUS = HELIUS.drop(['ID'],axis = 1)\n",
    "HELIUS.tail(5)"
   ]
  },
  {
   "cell_type": "code",
   "execution_count": null,
   "id": "20",
   "metadata": {
    "tags": []
   },
   "outputs": [],
   "source": [
    "Insight46 = Insight46.drop(['ID'],axis = 1)\n",
    "Insight46.tail(5)"
   ]
  },
  {
   "cell_type": "code",
   "execution_count": null,
   "id": "21",
   "metadata": {
    "tags": []
   },
   "outputs": [],
   "source": [
    "TOPMRI = pd.concat([TOP, MRI])\n",
    "TOPMRI['Site'] = 0\n",
    "TOPMRI.head(3) "
   ]
  },
  {
   "cell_type": "code",
   "execution_count": null,
   "id": "22",
   "metadata": {
    "tags": []
   },
   "outputs": [],
   "source": [
    "datasets = [TOPMRI, HELIUS, SABRE, EDIS, Insight46]\n",
    "for everyone in datasets:\n",
    "    everyone.columns =  everyone.columns.str.lower()\n",
    "TOPMRI.head(3)"
   ]
  },
  {
   "cell_type": "code",
   "execution_count": 19,
   "id": "23",
   "metadata": {
    "tags": []
   },
   "outputs": [],
   "source": [
    "TOPMRI['site'] = 0\n",
    "EDIS['site'] = 1\n",
    "HELIUS['site'] = 2\n",
    "SABRE['site'] = 3\n",
    "Insight46['site'] = 4"
   ]
  },
  {
   "cell_type": "code",
   "execution_count": null,
   "id": "24",
   "metadata": {
    "tags": []
   },
   "outputs": [],
   "source": [
    "FIVEDATA = pd.concat(datasets)\n",
    "FIVEDATA.isna().any()"
   ]
  },
  {
   "cell_type": "code",
   "execution_count": 21,
   "id": "25",
   "metadata": {
    "tags": []
   },
   "outputs": [],
   "source": [
    "FIVEDATA['decade']=(FIVEDATA['age']/10).round()\n",
    "#FIVEDATA['decade']"
   ]
  },
  {
   "cell_type": "code",
   "execution_count": null,
   "id": "26",
   "metadata": {
    "tags": []
   },
   "outputs": [],
   "source": [
    "FIVEDATA = FIVEDATA.sort_values(by='age')\n",
    "FIVEDATA.reset_index(inplace=True)\n",
    "FIVEDATA['fine_grain'] = FIVEDATA['age'].rolling(2).sum()/2\n",
    "FIVEDATA"
   ]
  },
  {
   "cell_type": "code",
   "execution_count": 47,
   "id": "27",
   "metadata": {},
   "outputs": [
    {
     "data": {
      "text/html": [
       "<div>\n",
       "<style scoped>\n",
       "    .dataframe tbody tr th:only-of-type {\n",
       "        vertical-align: middle;\n",
       "    }\n",
       "\n",
       "    .dataframe tbody tr th {\n",
       "        vertical-align: top;\n",
       "    }\n",
       "\n",
       "    .dataframe thead th {\n",
       "        text-align: right;\n",
       "    }\n",
       "</style>\n",
       "<table border=\"1\" class=\"dataframe\">\n",
       "  <thead>\n",
       "    <tr style=\"text-align: right;\">\n",
       "      <th></th>\n",
       "      <th>index</th>\n",
       "      <th>participant_id</th>\n",
       "      <th>age</th>\n",
       "      <th>sex</th>\n",
       "      <th>site</th>\n",
       "      <th>gm_vol</th>\n",
       "      <th>wm_vol</th>\n",
       "      <th>csf_vol</th>\n",
       "      <th>gm_icvratio</th>\n",
       "      <th>gmwm_icvratio</th>\n",
       "      <th>...</th>\n",
       "      <th>mca_b_cbf</th>\n",
       "      <th>pca_b_cbf</th>\n",
       "      <th>totalgm_b_cbf</th>\n",
       "      <th>ld</th>\n",
       "      <th>pld</th>\n",
       "      <th>labelling</th>\n",
       "      <th>readout</th>\n",
       "      <th>m0</th>\n",
       "      <th>decade</th>\n",
       "      <th>fine_grain</th>\n",
       "    </tr>\n",
       "  </thead>\n",
       "  <tbody>\n",
       "    <tr>\n",
       "      <th>0</th>\n",
       "      <td>481</td>\n",
       "      <td>sub-0386_1</td>\n",
       "      <td>17.720000</td>\n",
       "      <td>0</td>\n",
       "      <td>0</td>\n",
       "      <td>0.74568</td>\n",
       "      <td>0.51859</td>\n",
       "      <td>0.27316</td>\n",
       "      <td>0.48502</td>\n",
       "      <td>0.82233</td>\n",
       "      <td>...</td>\n",
       "      <td>89.2040</td>\n",
       "      <td>67.6051</td>\n",
       "      <td>77.1479</td>\n",
       "      <td>1450</td>\n",
       "      <td>2025</td>\n",
       "      <td>PCASL</td>\n",
       "      <td>3DSpiral</td>\n",
       "      <td>Yes</td>\n",
       "      <td>2.0</td>\n",
       "      <td>17.935000</td>\n",
       "    </tr>\n",
       "    <tr>\n",
       "      <th>1</th>\n",
       "      <td>110</td>\n",
       "      <td>sub-0337_1</td>\n",
       "      <td>18.150000</td>\n",
       "      <td>1</td>\n",
       "      <td>0</td>\n",
       "      <td>0.71129</td>\n",
       "      <td>0.44216</td>\n",
       "      <td>0.18840</td>\n",
       "      <td>0.53008</td>\n",
       "      <td>0.85960</td>\n",
       "      <td>...</td>\n",
       "      <td>90.6592</td>\n",
       "      <td>67.5734</td>\n",
       "      <td>82.0479</td>\n",
       "      <td>1450</td>\n",
       "      <td>2025</td>\n",
       "      <td>PCASL</td>\n",
       "      <td>3DSpiral</td>\n",
       "      <td>Yes</td>\n",
       "      <td>2.0</td>\n",
       "      <td>17.935000</td>\n",
       "    </tr>\n",
       "    <tr>\n",
       "      <th>2</th>\n",
       "      <td>269</td>\n",
       "      <td>sub-0239_1</td>\n",
       "      <td>18.400000</td>\n",
       "      <td>0</td>\n",
       "      <td>0</td>\n",
       "      <td>0.69937</td>\n",
       "      <td>0.46534</td>\n",
       "      <td>0.24350</td>\n",
       "      <td>0.49664</td>\n",
       "      <td>0.82709</td>\n",
       "      <td>...</td>\n",
       "      <td>106.6904</td>\n",
       "      <td>75.3278</td>\n",
       "      <td>91.4069</td>\n",
       "      <td>1450</td>\n",
       "      <td>2025</td>\n",
       "      <td>PCASL</td>\n",
       "      <td>3DSpiral</td>\n",
       "      <td>Yes</td>\n",
       "      <td>2.0</td>\n",
       "      <td>18.445000</td>\n",
       "    </tr>\n",
       "    <tr>\n",
       "      <th>3</th>\n",
       "      <td>163</td>\n",
       "      <td>sub-0628_1</td>\n",
       "      <td>18.490000</td>\n",
       "      <td>0</td>\n",
       "      <td>0</td>\n",
       "      <td>0.87101</td>\n",
       "      <td>0.53531</td>\n",
       "      <td>0.23551</td>\n",
       "      <td>0.53051</td>\n",
       "      <td>0.85656</td>\n",
       "      <td>...</td>\n",
       "      <td>77.2528</td>\n",
       "      <td>58.1547</td>\n",
       "      <td>71.0279</td>\n",
       "      <td>1450</td>\n",
       "      <td>2025</td>\n",
       "      <td>PCASL</td>\n",
       "      <td>3DSpiral</td>\n",
       "      <td>Yes</td>\n",
       "      <td>2.0</td>\n",
       "      <td>18.445000</td>\n",
       "    </tr>\n",
       "    <tr>\n",
       "      <th>4</th>\n",
       "      <td>81</td>\n",
       "      <td>sub-0572_1</td>\n",
       "      <td>18.520000</td>\n",
       "      <td>0</td>\n",
       "      <td>0</td>\n",
       "      <td>0.82831</td>\n",
       "      <td>0.54979</td>\n",
       "      <td>0.26062</td>\n",
       "      <td>0.50546</td>\n",
       "      <td>0.84096</td>\n",
       "      <td>...</td>\n",
       "      <td>80.0378</td>\n",
       "      <td>54.2705</td>\n",
       "      <td>68.6422</td>\n",
       "      <td>1450</td>\n",
       "      <td>2025</td>\n",
       "      <td>PCASL</td>\n",
       "      <td>3DSpiral</td>\n",
       "      <td>Yes</td>\n",
       "      <td>2.0</td>\n",
       "      <td>18.745000</td>\n",
       "    </tr>\n",
       "    <tr>\n",
       "      <th>...</th>\n",
       "      <td>...</td>\n",
       "      <td>...</td>\n",
       "      <td>...</td>\n",
       "      <td>...</td>\n",
       "      <td>...</td>\n",
       "      <td>...</td>\n",
       "      <td>...</td>\n",
       "      <td>...</td>\n",
       "      <td>...</td>\n",
       "      <td>...</td>\n",
       "      <td>...</td>\n",
       "      <td>...</td>\n",
       "      <td>...</td>\n",
       "      <td>...</td>\n",
       "      <td>...</td>\n",
       "      <td>...</td>\n",
       "      <td>...</td>\n",
       "      <td>...</td>\n",
       "      <td>...</td>\n",
       "      <td>...</td>\n",
       "      <td>...</td>\n",
       "    </tr>\n",
       "    <tr>\n",
       "      <th>3327</th>\n",
       "      <td>431</td>\n",
       "      <td>sub-502489_1</td>\n",
       "      <td>90.000000</td>\n",
       "      <td>0</td>\n",
       "      <td>3</td>\n",
       "      <td>0.46075</td>\n",
       "      <td>0.42022</td>\n",
       "      <td>0.44248</td>\n",
       "      <td>0.34814</td>\n",
       "      <td>0.66566</td>\n",
       "      <td>...</td>\n",
       "      <td>43.4033</td>\n",
       "      <td>45.5426</td>\n",
       "      <td>41.4959</td>\n",
       "      <td>1800</td>\n",
       "      <td>2000</td>\n",
       "      <td>PCASL</td>\n",
       "      <td>2DEPI</td>\n",
       "      <td>Yes</td>\n",
       "      <td>9.0</td>\n",
       "      <td>89.500000</td>\n",
       "    </tr>\n",
       "    <tr>\n",
       "      <th>3328</th>\n",
       "      <td>96</td>\n",
       "      <td>sub-125022_1</td>\n",
       "      <td>90.000000</td>\n",
       "      <td>0</td>\n",
       "      <td>3</td>\n",
       "      <td>0.52684</td>\n",
       "      <td>0.43997</td>\n",
       "      <td>0.59042</td>\n",
       "      <td>0.33832</td>\n",
       "      <td>0.62085</td>\n",
       "      <td>...</td>\n",
       "      <td>41.1667</td>\n",
       "      <td>48.0045</td>\n",
       "      <td>44.2309</td>\n",
       "      <td>1800</td>\n",
       "      <td>2000</td>\n",
       "      <td>PCASL</td>\n",
       "      <td>2DEPI</td>\n",
       "      <td>Yes</td>\n",
       "      <td>9.0</td>\n",
       "      <td>90.000000</td>\n",
       "    </tr>\n",
       "    <tr>\n",
       "      <th>3329</th>\n",
       "      <td>465</td>\n",
       "      <td>sub-131201_1</td>\n",
       "      <td>90.000000</td>\n",
       "      <td>0</td>\n",
       "      <td>3</td>\n",
       "      <td>0.46528</td>\n",
       "      <td>0.34336</td>\n",
       "      <td>0.57959</td>\n",
       "      <td>0.33516</td>\n",
       "      <td>0.58250</td>\n",
       "      <td>...</td>\n",
       "      <td>37.0957</td>\n",
       "      <td>48.6865</td>\n",
       "      <td>40.9211</td>\n",
       "      <td>1800</td>\n",
       "      <td>2000</td>\n",
       "      <td>PCASL</td>\n",
       "      <td>2DEPI</td>\n",
       "      <td>Yes</td>\n",
       "      <td>9.0</td>\n",
       "      <td>90.000000</td>\n",
       "    </tr>\n",
       "    <tr>\n",
       "      <th>3330</th>\n",
       "      <td>384</td>\n",
       "      <td>sub-5942301_1</td>\n",
       "      <td>92.049315</td>\n",
       "      <td>0</td>\n",
       "      <td>0</td>\n",
       "      <td>0.48348</td>\n",
       "      <td>0.40179</td>\n",
       "      <td>0.55615</td>\n",
       "      <td>0.33542</td>\n",
       "      <td>0.61417</td>\n",
       "      <td>...</td>\n",
       "      <td>63.2504</td>\n",
       "      <td>59.7786</td>\n",
       "      <td>57.7572</td>\n",
       "      <td>1450</td>\n",
       "      <td>2025</td>\n",
       "      <td>PCASL</td>\n",
       "      <td>3DSpiral</td>\n",
       "      <td>Yes</td>\n",
       "      <td>9.0</td>\n",
       "      <td>93.358904</td>\n",
       "    </tr>\n",
       "    <tr>\n",
       "      <th>3331</th>\n",
       "      <td>194</td>\n",
       "      <td>sub-5935801_1</td>\n",
       "      <td>94.668493</td>\n",
       "      <td>1</td>\n",
       "      <td>0</td>\n",
       "      <td>0.46818</td>\n",
       "      <td>0.35488</td>\n",
       "      <td>0.46230</td>\n",
       "      <td>0.36424</td>\n",
       "      <td>0.64033</td>\n",
       "      <td>...</td>\n",
       "      <td>48.4378</td>\n",
       "      <td>42.6862</td>\n",
       "      <td>46.8986</td>\n",
       "      <td>1450</td>\n",
       "      <td>2025</td>\n",
       "      <td>PCASL</td>\n",
       "      <td>3DSpiral</td>\n",
       "      <td>Yes</td>\n",
       "      <td>9.0</td>\n",
       "      <td>93.358904</td>\n",
       "    </tr>\n",
       "  </tbody>\n",
       "</table>\n",
       "<p>3332 rows × 29 columns</p>\n",
       "</div>"
      ],
      "text/plain": [
       "      index participant_id        age  sex  site   gm_vol   wm_vol  csf_vol  \\\n",
       "0       481     sub-0386_1  17.720000    0     0  0.74568  0.51859  0.27316   \n",
       "1       110     sub-0337_1  18.150000    1     0  0.71129  0.44216  0.18840   \n",
       "2       269     sub-0239_1  18.400000    0     0  0.69937  0.46534  0.24350   \n",
       "3       163     sub-0628_1  18.490000    0     0  0.87101  0.53531  0.23551   \n",
       "4        81     sub-0572_1  18.520000    0     0  0.82831  0.54979  0.26062   \n",
       "...     ...            ...        ...  ...   ...      ...      ...      ...   \n",
       "3327    431   sub-502489_1  90.000000    0     3  0.46075  0.42022  0.44248   \n",
       "3328     96   sub-125022_1  90.000000    0     3  0.52684  0.43997  0.59042   \n",
       "3329    465   sub-131201_1  90.000000    0     3  0.46528  0.34336  0.57959   \n",
       "3330    384  sub-5942301_1  92.049315    0     0  0.48348  0.40179  0.55615   \n",
       "3331    194  sub-5935801_1  94.668493    1     0  0.46818  0.35488  0.46230   \n",
       "\n",
       "      gm_icvratio  gmwm_icvratio  ...  mca_b_cbf  pca_b_cbf  totalgm_b_cbf  \\\n",
       "0         0.48502        0.82233  ...    89.2040    67.6051        77.1479   \n",
       "1         0.53008        0.85960  ...    90.6592    67.5734        82.0479   \n",
       "2         0.49664        0.82709  ...   106.6904    75.3278        91.4069   \n",
       "3         0.53051        0.85656  ...    77.2528    58.1547        71.0279   \n",
       "4         0.50546        0.84096  ...    80.0378    54.2705        68.6422   \n",
       "...           ...            ...  ...        ...        ...            ...   \n",
       "3327      0.34814        0.66566  ...    43.4033    45.5426        41.4959   \n",
       "3328      0.33832        0.62085  ...    41.1667    48.0045        44.2309   \n",
       "3329      0.33516        0.58250  ...    37.0957    48.6865        40.9211   \n",
       "3330      0.33542        0.61417  ...    63.2504    59.7786        57.7572   \n",
       "3331      0.36424        0.64033  ...    48.4378    42.6862        46.8986   \n",
       "\n",
       "        ld   pld  labelling   readout   m0  decade  fine_grain  \n",
       "0     1450  2025      PCASL  3DSpiral  Yes     2.0   17.935000  \n",
       "1     1450  2025      PCASL  3DSpiral  Yes     2.0   17.935000  \n",
       "2     1450  2025      PCASL  3DSpiral  Yes     2.0   18.445000  \n",
       "3     1450  2025      PCASL  3DSpiral  Yes     2.0   18.445000  \n",
       "4     1450  2025      PCASL  3DSpiral  Yes     2.0   18.745000  \n",
       "...    ...   ...        ...       ...  ...     ...         ...  \n",
       "3327  1800  2000      PCASL     2DEPI  Yes     9.0   89.500000  \n",
       "3328  1800  2000      PCASL     2DEPI  Yes     9.0   90.000000  \n",
       "3329  1800  2000      PCASL     2DEPI  Yes     9.0   90.000000  \n",
       "3330  1450  2025      PCASL  3DSpiral  Yes     9.0   93.358904  \n",
       "3331  1450  2025      PCASL  3DSpiral  Yes     9.0   93.358904  \n",
       "\n",
       "[3332 rows x 29 columns]"
      ]
     },
     "execution_count": 47,
     "metadata": {},
     "output_type": "execute_result"
    }
   ],
   "source": [
    "FIVEDATA"
   ]
  },
  {
   "cell_type": "code",
   "execution_count": null,
   "id": "28",
   "metadata": {
    "tags": []
   },
   "outputs": [],
   "source": [
    "FIVEDATA[:].fine_grain.iloc[::2] = FIVEDATA[:].fine_grain.iloc[1::2]\n",
    "FIVEDATA['fine_grain']"
   ]
  },
  {
   "cell_type": "code",
   "execution_count": null,
   "id": "29",
   "metadata": {
    "tags": []
   },
   "outputs": [],
   "source": []
  },
  {
   "cell_type": "code",
   "execution_count": 25,
   "id": "30",
   "metadata": {
    "tags": []
   },
   "outputs": [],
   "source": [
    "#FIVEDATA['fine_grain'][-1] = FIVEDATA['fine_grain'][-2]"
   ]
  },
  {
   "cell_type": "code",
   "execution_count": null,
   "id": "31",
   "metadata": {
    "tags": []
   },
   "outputs": [],
   "source": [
    "FIVEDATA['decade'].unique()"
   ]
  },
  {
   "cell_type": "code",
   "execution_count": null,
   "id": "32",
   "metadata": {
    "tags": []
   },
   "outputs": [],
   "source": [
    "FIVEDATA.columns"
   ]
  },
  {
   "cell_type": "code",
   "execution_count": 28,
   "id": "33",
   "metadata": {
    "tags": []
   },
   "outputs": [],
   "source": [
    "combat = autocombat.Combat(\n",
    "    features=[ 'gm_vol', 'wm_vol', 'csf_vol',\n",
    "       'gm_icvratio', 'gmwm_icvratio', 'wmhvol_wmvol', 'wmh_count',\n",
    "        'aca_b_cov', 'mca_b_cov', 'pca_b_cov', 'totalgm_b_cov',\n",
    "        'aca_b_cbf', 'mca_b_cbf', 'pca_b_cbf', 'totalgm_b_cbf',],\n",
    "    sites=[ \"site\"], discrete_covariates=['sex'],continuous_covariates=['decade'],)\n",
    "\n",
    "fg_combat = autocombat.Combat(\n",
    "    features=[ 'gm_vol', 'wm_vol', 'csf_vol',\n",
    "       'gm_icvratio', 'gmwm_icvratio', 'wmhvol_wmvol', 'wmh_count',\n",
    "       'aca_b_cov', 'mca_b_cov', 'pca_b_cov', 'totalgm_b_cov',\n",
    "       'aca_b_cbf', 'mca_b_cbf', 'pca_b_cbf', 'totalgm_b_cbf',],\n",
    "    sites=[ \"site\"], discrete_covariates=['sex'],continuous_covariates=['fine_grain'],)\n"
   ]
  },
  {
   "cell_type": "code",
   "execution_count": null,
   "id": "69315357",
   "metadata": {},
   "outputs": [],
   "source": [
    "FIVEDATA.isna().any()"
   ]
  },
  {
   "cell_type": "code",
   "execution_count": null,
   "id": "34",
   "metadata": {
    "tags": []
   },
   "outputs": [],
   "source": [
    "print(combat.fit(FIVEDATA))\n",
    "print(fg_combat.fit(FIVEDATA))"
   ]
  },
  {
   "cell_type": "code",
   "execution_count": null,
   "id": "35",
   "metadata": {
    "tags": []
   },
   "outputs": [],
   "source": [
    "print(combat.gamma_star_)\n",
    "print(fg_combat.gamma_star_)"
   ]
  },
  {
   "cell_type": "code",
   "execution_count": null,
   "id": "36",
   "metadata": {
    "tags": []
   },
   "outputs": [],
   "source": [
    "transformed_FIVEDATA= combat.transform(FIVEDATA)\n",
    "transformed_FIVEDATA.head(3)"
   ]
  },
  {
   "cell_type": "code",
   "execution_count": null,
   "id": "37",
   "metadata": {
    "tags": []
   },
   "outputs": [],
   "source": [
    "fg_transformed_FIVEDATA= fg_combat.transform(FIVEDATA)\n",
    "fg_transformed_FIVEDATA.head(3)"
   ]
  },
  {
   "cell_type": "code",
   "execution_count": null,
   "id": "38",
   "metadata": {
    "tags": []
   },
   "outputs": [],
   "source": [
    "FIVEDATA.head(3)"
   ]
  },
  {
   "cell_type": "code",
   "execution_count": null,
   "id": "39",
   "metadata": {
    "tags": []
   },
   "outputs": [],
   "source": [
    "TOPMRI_transformed = transformed_FIVEDATA[ transformed_FIVEDATA['site']==0]\n",
    "TOPMRI_transformed = TOPMRI_transformed.drop(['site', 'decade','fine_grain', 'index'], axis=1)\n",
    "TOPMRI_transformed.head(3)"
   ]
  },
  {
   "cell_type": "code",
   "execution_count": null,
   "id": "40",
   "metadata": {
    "tags": []
   },
   "outputs": [],
   "source": [
    "fg_TOPMRI_transformed = fg_transformed_FIVEDATA[fg_transformed_FIVEDATA['site']==0]\n",
    "fg_TOPMRI_transformed = fg_TOPMRI_transformed .drop(['site', 'decade','fine_grain', 'index'], axis=1)\n",
    "fg_TOPMRI_transformed.head(3)"
   ]
  },
  {
   "cell_type": "code",
   "execution_count": null,
   "id": "41",
   "metadata": {
    "tags": []
   },
   "outputs": [],
   "source": [
    "EDIS_transformed = transformed_FIVEDATA[ transformed_FIVEDATA['site']==1]\n",
    "EDIS_transformed = EDIS_transformed.drop(['site', 'decade', 'index', 'fine_grain'], axis=1)\n",
    "EDIS_transformed.head(3)"
   ]
  },
  {
   "cell_type": "code",
   "execution_count": null,
   "id": "42",
   "metadata": {
    "tags": []
   },
   "outputs": [],
   "source": [
    "HELIUS_transformed = transformed_FIVEDATA[ transformed_FIVEDATA['site']==2]\n",
    "HELIUS_transformed = HELIUS_transformed.drop(['site', 'decade', 'index', 'fine_grain'], axis=1)\n",
    "HELIUS_transformed.head(3)"
   ]
  },
  {
   "cell_type": "code",
   "execution_count": null,
   "id": "43",
   "metadata": {
    "tags": []
   },
   "outputs": [],
   "source": [
    "SABRE_transformed = transformed_FIVEDATA[ transformed_FIVEDATA['site']==3]\n",
    "SABRE_transformed = SABRE_transformed.drop(['site', 'decade', 'index', 'fine_grain'], axis=1)\n",
    "SABRE_transformed.head(3)"
   ]
  },
  {
   "cell_type": "code",
   "execution_count": null,
   "id": "44",
   "metadata": {
    "tags": []
   },
   "outputs": [],
   "source": [
    "Insight_transformed = transformed_FIVEDATA[ transformed_FIVEDATA['site']==4]\n",
    "Insight_transformed = Insight_transformed.drop(['site', 'decade', 'index', 'fine_grain'], axis=1)\n",
    "Insight_transformed.head(3)"
   ]
  },
  {
   "cell_type": "code",
   "execution_count": null,
   "id": "45",
   "metadata": {
    "tags": []
   },
   "outputs": [],
   "source": [
    "fg_EDIS_transformed = fg_transformed_FIVEDATA[fg_transformed_FIVEDATA['site']==1]\n",
    "fg_EDIS_transformed = fg_EDIS_transformed.drop(['site', 'decade', 'index', 'fine_grain'], axis=1)\n",
    "fg_EDIS_transformed.head(3)"
   ]
  },
  {
   "cell_type": "code",
   "execution_count": null,
   "id": "46",
   "metadata": {
    "tags": []
   },
   "outputs": [],
   "source": [
    "fg_HELIUS_transformed = fg_transformed_FIVEDATA[fg_transformed_FIVEDATA['site']==2]\n",
    "fg_HELIUS_transformed = fg_HELIUS_transformed.drop(['site', 'decade', 'index', 'fine_grain'], axis=1)\n",
    "fg_HELIUS_transformed.head(3)"
   ]
  },
  {
   "cell_type": "code",
   "execution_count": null,
   "id": "47",
   "metadata": {
    "tags": []
   },
   "outputs": [],
   "source": [
    "fg_SABRE_transformed = fg_transformed_FIVEDATA[fg_transformed_FIVEDATA['site']==3]\n",
    "fg_SABRE_transformed = fg_SABRE_transformed.drop(['site', 'decade', 'index', 'fine_grain'], axis=1)\n",
    "fg_SABRE_transformed.head(3)"
   ]
  },
  {
   "cell_type": "code",
   "execution_count": null,
   "id": "48",
   "metadata": {
    "tags": []
   },
   "outputs": [],
   "source": [
    "fg_Insight_transformed = fg_transformed_FIVEDATA[fg_transformed_FIVEDATA['site']==4]\n",
    "fg_Insight_transformed = fg_Insight_transformed.drop(['site', 'decade', 'index', 'fine_grain'], axis=1)\n",
    "fg_Insight_transformed.head(3)"
   ]
  },
  {
   "cell_type": "code",
   "execution_count": 46,
   "id": "49",
   "metadata": {
    "tags": []
   },
   "outputs": [],
   "source": [
    "TOPMRI_transformed.to_csv('harm_results/autocombat/5autocom5_harm_topmri_v_e.csv')\n",
    "EDIS_transformed.to_csv('harm_results/autocombat/5autocom5_harm_EDIS.csv')\n",
    "HELIUS_transformed.to_csv('harm_results/autocombat/5autocom5_harm_HELIUS.csv')\n",
    "SABRE_transformed.to_csv('harm_results/autocombat/5autocom5_harm_SABRE.csv')\n",
    "Insight_transformed.to_csv('harm_results/autocombat/5autocom5_harm_Insight.csv')\n",
    "\n",
    "fg_TOPMRI_transformed.to_csv('harm_results/autocombat/5fg_autocom5_harm_topmri_v_e.csv')\n",
    "fg_EDIS_transformed.to_csv('harm_results/autocombat/5fg_autocom5_harm_EDIS1.csv')\n",
    "fg_HELIUS_transformed.to_csv('harm_results/autocombat/5fg_autocom5_harm_HELIUS.csv')\n",
    "fg_SABRE_transformed.to_csv('harm_results/autocombat/5fg_autocom5_harm_SABRE.csv')\n",
    "fg_Insight_transformed.to_csv('harm_results/autocombat/5fg_autocom5_harm_Insight.csv')"
   ]
  },
  {
   "cell_type": "code",
   "execution_count": null,
   "id": "50",
   "metadata": {},
   "outputs": [],
   "source": []
  }
 ],
 "metadata": {
  "kernelspec": {
   "display_name": "Python 3 (ipykernel)",
   "language": "python",
   "name": "python3"
  },
  "language_info": {
   "codemirror_mode": {
    "name": "ipython",
    "version": 3
   },
   "file_extension": ".py",
   "mimetype": "text/x-python",
   "name": "python",
   "nbconvert_exporter": "python",
   "pygments_lexer": "ipython3",
   "version": "3.12.5"
  }
 },
 "nbformat": 4,
 "nbformat_minor": 5
}
